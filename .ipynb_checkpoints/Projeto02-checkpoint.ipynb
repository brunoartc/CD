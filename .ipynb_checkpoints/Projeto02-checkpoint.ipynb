{
 "cells": [
  {
   "cell_type": "markdown",
   "metadata": {},
   "source": [
    "# Projeto 2 - Classificador Automático de Sentimento\n",
    "\n",
    "Você foi contratado por uma empresa parar analisar como os clientes estão reagindo a um determinado produto no Twitter. A empresa deseja que você crie um programa que irá analisar as mensagens disponíveis e classificará como \"relevante\" ou \"irrelevante\". Com isso ela deseja que mensagens negativas, que denigrem o nome do produto, ou que mereçam destaque, disparem um foco de atenção da área de marketing.<br /><br />\n",
    "Como aluno de Ciência dos Dados, você lembrou do Teorema de Bayes, mais especificamente do Classificador Naive-Bayes, que é largamente utilizado em filtros anti-spam de e-mails. O classificador permite calcular qual a probabilidade de uma mensagem ser relevante dadas as palavras em seu conteúdo.<br /><br />\n",
    "Para realizar o MVP (*minimum viable product*) do projeto, você precisa implementar uma versão do classificador que \"aprende\" o que é relevante com uma base de treinamento e compara a performance dos resultados com uma base de testes.<br /><br />\n",
    "Após validado, o seu protótipo poderá também capturar e classificar automaticamente as mensagens da plataforma.\n",
    "\n",
    "## Informações do Projeto\n",
    "\n",
    "Prazo: 13/Set até às 23:59.<br />\n",
    "Grupo: 1 ou 2 pessoas.<br /><br />\n",
    "Entregáveis via GitHub: \n",
    "* Arquivo notebook com o código do classificador, seguindo as orientações abaixo.\n",
    "* Arquivo Excel com as bases de treinamento e teste totalmente classificado.\n",
    "\n",
    "**NÃO disponibilizar o arquivo com os *access keys/tokens* do Twitter.**\n",
    "\n",
    "\n",
    "### Check 3: \n",
    "\n",
    "Até o dia 06 de Setembro às 23:59, o notebook e o xlsx devem estar no Github com as seguintes evidências: \n",
    "    * Conta no twitter criada.\n",
    "    * Produto escolhido.\n",
    "    * Arquivo Excel contendo a base de treinamento e teste já classificado.\n",
    "    \n",
    "\n",
    "Sugestão de leitura:<br />\n",
    "http://docs.tweepy.org/en/v3.5.0/index.html<br />\n",
    "https://monkeylearn.com/blog/practical-explanation-naive-bayes-classifier/"
   ]
  },
  {
   "cell_type": "markdown",
   "metadata": {},
   "source": [
    "___\n",
    "\n",
    "## Preparando o ambiente\n",
    "\n",
    "Instalando a biblioteca *tweepy* para realizar a conexão com o Twitter:"
   ]
  },
  {
   "cell_type": "code",
   "execution_count": null,
   "metadata": {
    "collapsed": true
   },
   "outputs": [],
   "source": [
    "%%capture\n",
    "\n",
    "#Instalando o tweepy\n",
    "!pip install tweepy"
   ]
  },
  {
   "cell_type": "markdown",
   "metadata": {},
   "source": [
    "Importando as Bibliotecas que serão utilizadas. Esteja livre para adicionar outras."
   ]
  },
  {
   "cell_type": "code",
   "execution_count": 1,
   "metadata": {
    "collapsed": true
   },
   "outputs": [],
   "source": [
    "import tweepy\n",
    "import math\n",
    "import os.path\n",
    "import pandas as pd\n",
    "import json\n",
    "from random import shuffle"
   ]
  },
  {
   "cell_type": "markdown",
   "metadata": {},
   "source": [
    "___\n",
    "## Autenticando no  Twitter\n",
    "\n",
    "Para realizar a captura dos dados é necessário ter uma conta cadastrada no twitter:\n",
    "\n",
    "* Conta: ***[Preencha aqui o id da sua conta. Ex: @fulano ]***\n",
    "\n",
    "\n",
    "1. Caso ainda não tenha uma: https://twitter.com/signup\n",
    "1. Depois é necessário registrar um app para usar a biblioteca: https://apps.twitter.com/\n",
    "1. Dentro do registro do App, na aba Keys and Access Tokens, anotar os seguintes campos:\n",
    "    1. Consumer Key (API Key)\n",
    "    1. Consumer Secret (API Secret)\n",
    "1. Mais abaixo, gere um Token e anote também:\n",
    "    1. Access Token\n",
    "    1. Access Token Secret\n",
    "    \n",
    "1. Preencha os valores no arquivo \"auth.pass\"\n",
    "\n",
    "**ATENÇÃO**: Nunca divulgue os dados desse arquivo online (GitHub, etc). Ele contém as chaves necessárias para realizar as operações no twitter de forma automática e portanto é equivalente a ser \"hackeado\". De posse desses dados, pessoas mal intencionadas podem fazer todas as operações manuais (tweetar, seguir, bloquear/desbloquear, listar os seguidores, etc). Para efeito do projeto, esse arquivo não precisa ser entregue!!!"
   ]
  },
  {
   "cell_type": "code",
   "execution_count": null,
   "metadata": {
    "collapsed": true
   },
   "outputs": [],
   "source": [
    "#Dados de autenticação do twitter:\n",
    "\n",
    "#Coloque aqui o identificador da conta no twitter: @fulano\n",
    "\n",
    "#leitura do arquivo no formato JSON\n",
    "with open('auth.pass') as fp:    \n",
    "    data = json.load(fp)\n",
    "\n",
    "#Configurando a biblioteca. Não modificar\n",
    "auth = tweepy.OAuthHandler(data['consumer_key'], data['consumer_secret'])\n",
    "auth.set_access_token(data['access_token'], data['access_token_secret'])"
   ]
  },
  {
   "cell_type": "markdown",
   "metadata": {},
   "source": [
    "___\n",
    "## Coletando Dados\n",
    "\n",
    "Agora vamos coletar os dados. Tenha em mente que dependendo do produto escolhido, não haverá uma quantidade significativa de mensagens, ou ainda poder haver muitos retweets.<br /><br /> \n",
    "Configurando:"
   ]
  },
  {
   "cell_type": "code",
   "execution_count": null,
   "metadata": {
    "collapsed": true
   },
   "outputs": [],
   "source": [
    "#Produto escolhido:\n",
    "produto = 'Snickers'\n",
    "\n",
    "#Quantidade mínima de mensagens capturadas:\n",
    "n = 500\n",
    "#Quantidade mínima de mensagens para a base de treinamento:\n",
    "t = 300\n",
    "\n",
    "#Filtro de língua, escolha uma na tabela ISO 639-1.\n",
    "lang = 'pt'"
   ]
  },
  {
   "cell_type": "markdown",
   "metadata": {},
   "source": [
    "Capturando os dados do twitter:"
   ]
  },
  {
   "cell_type": "code",
   "execution_count": null,
   "metadata": {
    "collapsed": true
   },
   "outputs": [],
   "source": [
    "#Cria um objeto para a captura\n",
    "api = tweepy.API(auth)\n",
    "\n",
    "#Inicia a captura, para mais detalhes: ver a documentação do tweepy\n",
    "i = 1\n",
    "msgs = []\n",
    "for msg in tweepy.Cursor(api.search, q=produto, lang=lang).items():    \n",
    "    msgs.append(msg.text.lower())\n",
    "    i += 1\n",
    "    if i > n:\n",
    "        break\n",
    "\n",
    "#Embaralhando as mensagens para reduzir um possível viés\n",
    "shuffle(msgs)"
   ]
  },
  {
   "cell_type": "markdown",
   "metadata": {},
   "source": [
    "Salvando os dados em uma planilha Excel:"
   ]
  },
  {
   "cell_type": "code",
   "execution_count": null,
   "metadata": {
    "collapsed": true
   },
   "outputs": [],
   "source": [
    "#Verifica se o arquivo não existe para não substituir um conjunto pronto\n",
    "if not os.path.isfile('./{0}.xlsx'.format(produto)):\n",
    "    \n",
    "    #Abre o arquivo para escrita\n",
    "    writer = pd.ExcelWriter('{0}.xlsx'.format(produto))\n",
    "\n",
    "    #divide o conjunto de mensagens em duas planilhas\n",
    "    dft = pd.DataFrame({'Treinamento' : pd.Series(msgs[:t])})\n",
    "    dft.to_excel(excel_writer = writer, sheet_name = 'Treinamento', index = False)\n",
    "\n",
    "    dfc = pd.DataFrame({'Teste' : pd.Series(msgs[t:])})\n",
    "    dfc.to_excel(excel_writer = writer, sheet_name = 'Teste', index = False)\n",
    "\n",
    "    #fecha o arquivo\n",
    "    writer.save()"
   ]
  },
  {
   "cell_type": "markdown",
   "metadata": {},
   "source": [
    "___\n",
    "## Classificando as Mensagens\n",
    "\n",
    "Agora você deve abrir o arquivo Excel com as mensagens capturadas e classificar na Coluna B se a mensagem é relevante ou não.<br /> \n",
    "Não se esqueça de colocar um nome para a coluna na célula **B1**.<br /><br />\n",
    "Fazer o mesmo na planilha de Controle.\n",
    "\n",
    "___\n",
    "## Montando o Classificador Naive-Bayes\n",
    "\n",
    "Com a base de treinamento montada, comece a desenvolver o classificador. Escreva o seu código abaixo:\n",
    "\n",
    "Opcionalmente: \n",
    "* Limpar as mensagens removendo os caracteres: enter, :, \", ', (, ), etc. Não remover emojis.<br />\n",
    "* Corrigir separação de espaços entre palavras e/ou emojis.\n",
    "* Propor outras limpezas/transformações que não afetem a qualidade da informação.\n",
    "\n"
   ]
  },
  {
   "cell_type": "code",
   "execution_count": 107,
   "metadata": {},
   "outputs": [],
   "source": [
    "dadosteste = pd.read_excel('Snickers (teste).xlsx')\n",
    "dadostreino = pd.read_excel('Snickers (treino).xlsx')\n",
    "inutil=dadostreino.Treinamento[dadostreino.prob==3]\n",
    "util=dadostreino.Treinamento[dadostreino.prob<3]\n",
    "\n",
    "tudo=dadostreino.Treinamento\n",
    "\n",
    "testeinutil=dadosteste.Teste[dadosteste.prob==3]\n",
    "testeutil=dadosteste.Teste[dadosteste.prob<3]\n",
    "tudoteste=dadosteste.Teste"
   ]
  },
  {
   "cell_type": "code",
   "execution_count": 3,
   "metadata": {},
   "outputs": [],
   "source": [
    "def crialista(x):\n",
    "    listatreino=[]\n",
    "\n",
    "    for i in x:\n",
    "        listatreino.append(i.split())\n",
    "    return listatreino"
   ]
  },
  {
   "cell_type": "code",
   "execution_count": 22,
   "metadata": {},
   "outputs": [],
   "source": [
    "def formatlist(x):\n",
    "    newWord=0\n",
    "\n",
    "    remove = ['/','?','.',',',';',':','\\\\',',','+','@','#',\"'\",\"\\\"\",\"!\",\"(\",\")\"]\n",
    "\n",
    "    removeInWordFull = ['http',\"rt\"]    #ira remover a palavra inteira\n",
    "\n",
    "    removeInWordSlice = ['/','?','.',',',';',':','\\\\',',','+','@','#',\"'\",\"\\\"\",\"!\",\"(\",\")\"]     #ira remover o caractere da mensagem\n",
    "\n",
    "    inut = 0\n",
    "\n",
    "    for i in range(0,len(x)): #procurar cada mensagem [i index da mensagem]\n",
    "        for j in range(0,len(x[i])): #procurara cada palavra na mensagem [j index da palavra]\n",
    "\n",
    "            if x[i][j] in remove:         #remove a palavra inteira se bater com alguma do \"remove\"\n",
    "                inut+=1\n",
    "                x[i][j]=\"remuvido\"\n",
    "\n",
    "            for l in range(0,len(x[i][j])): #procurara cada letra na palavra [l index da letra]\n",
    "\n",
    "                if any(word in x[i][j] for word in removeInWordFull):\n",
    "                    inut+=1\n",
    "                    x[i][j]=\"remuvido\"          #remove se tiver sequencia de caracteres indesejados \n",
    "                    break\n",
    "\n",
    "                '''\n",
    "                if listatreino[i][j][l] in removeInWordFull:\n",
    "                    listatreino[i][j]=\"remuvido\"                  #remove se tiver caractere indesejado\n",
    "                    break\n",
    "                '''\n",
    "\n",
    "            for l in range(0,len(x[i][j])): #procurara cada letra na palavra [l index da letra]\n",
    "                if x[i][j][l] in removeInWordSlice:\n",
    "                    newWord = list(x[i][j])\n",
    "                    inut+=1\n",
    "                    del newWord[l]\n",
    "            if (newWord):\n",
    "                x[i][j]=''.join(newWord)\n",
    "            newWord=0\n",
    "\n",
    "\n",
    "    for i in range(0,len(x)): #procurar cada mensagem [i index da mensagem] \n",
    "        deleted=0\n",
    "        for j in range(0,len(x[i])): #procurara cada palavra na mensagem [j index da palavra]\n",
    "            if x[i][j+deleted]==\"remuvido\": #deleta todos os \"remuvido\"\n",
    "                del x[i][j+deleted]\n",
    "                deleted-=1\n",
    "    #print (\"foram removidos {} caracteres\".format(inut))  \n",
    "    return x"
   ]
  },
  {
   "cell_type": "code",
   "execution_count": 5,
   "metadata": {},
   "outputs": [],
   "source": [
    "def prob(x) :\n",
    "    probDict = []\n",
    "\n",
    "    for i in range(0,len(x)): #procurar cada mensagem [i index da mensagem]\n",
    "        for j in range(0,len(x[i])): #procurara cada palavra na mensagem [j index da palavra]\n",
    "            ach=0\n",
    "            for k in range(0,len(probDict)):\n",
    "                if probDict[k][0] == x[i][j]:\n",
    "                    probDict[k][1]+=1\n",
    "                    ach=1\n",
    "\n",
    "            if ach==0:\n",
    "                probDict.append([x[i][j],1])\n",
    "            ach=0\n",
    "    return probDict"
   ]
  },
  {
   "cell_type": "code",
   "execution_count": 6,
   "metadata": {},
   "outputs": [],
   "source": [
    "def formatprob(x):\n",
    "    NumTotal = 0\n",
    "    for i in x:\n",
    "        NumTotal += i[1]\n",
    "    for i in range(len(x)):\n",
    "        x[i] = [x[i][0],x[i][1],x[i][1]/NumTotal]\n",
    "    probDict_palavras = []\n",
    "    for i in range(len(x)):\n",
    "        probDict_palavras.append(x[i][0])\n",
    "    return ([x,probDict_palavras])"
   ]
  },
  {
   "cell_type": "code",
   "execution_count": 7,
   "metadata": {
    "collapsed": true
   },
   "outputs": [],
   "source": [
    "def multi(x):\n",
    "    resp=1\n",
    "    for i in x:\n",
    "        resp*=i\n",
    "    return resp"
   ]
  },
  {
   "cell_type": "code",
   "execution_count": 34,
   "metadata": {},
   "outputs": [],
   "source": [
    "def probfrase(frase,probDict_palavras,probDict):\n",
    "    resp=[]\n",
    "    for i in frase:\n",
    "        prob_frase = []\n",
    "        for j in i:\n",
    "            if j in probDict_palavras:\n",
    "                ind = probDict_palavras.index(j)\n",
    "                prob_frase.append(probDict[ind][2])\n",
    "            else:\n",
    "                prob_frase.append(1)\n",
    "        resp.append([frase[frase.index(i)],multi(prob_frase)])\n",
    "    return resp"
   ]
  },
  {
   "cell_type": "code",
   "execution_count": 10,
   "metadata": {},
   "outputs": [],
   "source": [
    "def bott(j,study=0):\n",
    "    resp=[]\n",
    "    for x in j:\n",
    "        lista=crialista(x)\n",
    "        lista=formatlist(lista)\n",
    "        lista=formatlist(lista)\n",
    "        problist=prob(lista)\n",
    "        problist=formatprob(problist)[0]\n",
    "        probpalavras=formatprob(problist)[1]\n",
    "        resp.append([lista,problist,probpalavras])\n",
    "    return resp"
   ]
  },
  {
   "cell_type": "code",
   "execution_count": 76,
   "metadata": {
    "collapsed": true
   },
   "outputs": [],
   "source": [
    "def ageitapa(x):\n",
    "    lista=crialista(x)\n",
    "    lista=formatlist(lista)\n",
    "    lista=formatlist(lista)\n",
    "    return lista"
   ]
  },
  {
   "cell_type": "code",
   "execution_count": 77,
   "metadata": {
    "collapsed": true
   },
   "outputs": [],
   "source": [
    "def botr(fraseb,x):\n",
    "    frasey=ageitapa(fraseb)\n",
    "    resp=[]\n",
    "    for i in x:\n",
    "        resp.append(probfrase(frasey,i[2],i[1]))\n",
    "    return resp"
   ]
  },
  {
   "cell_type": "code",
   "execution_count": 93,
   "metadata": {},
   "outputs": [],
   "source": [
    "def formatbotr(x):\n",
    "    \n",
    "    resputil=[]\n",
    "    respinutil=[]\n",
    "    for i in range(0,len(x[1])):\n",
    "        if x[0][i][1] > x[1][i][1]:\n",
    "            respinutil.append(x[0][i][0])\n",
    "        else:\n",
    "            resputil.append(x[0][i][0])\n",
    "    return(resputil,respinutil)"
   ]
  },
  {
   "cell_type": "code",
   "execution_count": 113,
   "metadata": {},
   "outputs": [
    {
     "name": "stdout",
     "output_type": "stream",
     "text": [
      "  TREINO\n",
      "pessoa\n",
      "76  inutil\n",
      "223  uteis\n",
      "bot\n",
      "83  inuteis\n",
      "217  uteis\n",
      "\n",
      "  TESTE\n",
      "pessoa\n",
      "49  inutil\n",
      "151  uteis\n",
      "bot\n",
      "38  inuteis\n",
      "162  uteis\n"
     ]
    }
   ],
   "source": [
    "#formatbotr (botr ( lista de palavras no pandas , treino do bot)) [0 = util, 1 = inutil]\n",
    "print(\"  TREINO\")\n",
    "print(\"pessoa\")\n",
    "print(len(inutil), \" inutil\")\n",
    "print(len(util), \" uteis\")\n",
    "\n",
    "print(\"bot\")\n",
    "print(len(formatbotr(botr(tudo,bott([util,inutil],1)))[1]), \" inuteis\") \n",
    "print(len(formatbotr(botr(tudo,bott([util,inutil],1)))[0]), \" uteis\")\n",
    "\n",
    "\n",
    "\n",
    "print(\"\\n\",\" TESTE\")\n",
    "print(\"pessoa\")\n",
    "print(len(testeinutil), \" inutil\")\n",
    "print(len(testeutil), \" uteis\")\n",
    "\n",
    "print(\"bot\")\n",
    "print(len(formatbotr(botr(tudoteste,bott([util,inutil],1)))[1]), \" inuteis\") \n",
    "print(len(formatbotr(botr(tudoteste,bott([util,inutil],1)))[0]), \" uteis\")"
   ]
  },
  {
   "cell_type": "markdown",
   "metadata": {},
   "source": [
    "___\n",
    "## Verificando a performance\n",
    "\n",
    "Agora você deve testar o seu Classificador com a base de Testes.<br /><br /> \n",
    "\n",
    "Você deve extrair as seguintes medidas:\n",
    "* Porcentagem de positivos falsos (marcados como relevante mas não são relevantes)\n",
    "* Porcentagem de positivos verdadeiros (marcado como relevante e são relevantes)\n",
    "* Porcentagem de negativos verdadeiros (marcado como não relevante e não são relevantes)\n",
    "* Porcentagem de negativos falsos (marcado como não relevante e são relevantes)\n",
    "\n",
    "Opcionalmente:\n",
    "* Criar categorias intermediárias de relevância baseado na diferença de probabilidades. Exemplo: muito relevante, relevante, neutro, irrelevante e muito irrelevante."
   ]
  },
  {
   "cell_type": "code",
   "execution_count": null,
   "metadata": {
    "collapsed": true,
    "scrolled": true
   },
   "outputs": [],
   "source": []
  },
  {
   "cell_type": "markdown",
   "metadata": {
    "collapsed": true
   },
   "source": [
    "___\n",
    "## Concluindo\n",
    "\n",
    "Escreva aqui a sua conclusão.<br /> \n",
    "Faça um comparativo qualitativo sobre as medidas obtidas.<br />\n",
    "Explique como são tratadas as mensagens com dupla negação e sarcasmo.<br />\n",
    "Proponha um plano de expansão. Por que eles devem continuar financiando o seu projeto?<br />\n",
    "\n",
    "Opcionalmente: \n",
    "* Discorrer por que não posso alimentar minha base de Treinamento automaticamente usando o próprio classificador, aplicado a novos tweets.\n",
    "* Propor diferentes cenários de uso para o classificador Naive-Bayes. Cenários sem intersecção com este projeto.\n",
    "* Sugerir e explicar melhorias reais no classificador com indicações concretas de como implementar (não é preciso codificar, mas indicar como fazer e material de pesquisa sobre o assunto).\n"
   ]
  },
  {
   "cell_type": "code",
   "execution_count": null,
   "metadata": {
    "collapsed": true
   },
   "outputs": [],
   "source": []
  }
 ],
 "metadata": {
  "kernelspec": {
   "display_name": "Python 3",
   "language": "python",
   "name": "python3"
  },
  "language_info": {
   "codemirror_mode": {
    "name": "ipython",
    "version": 3
   },
   "file_extension": ".py",
   "mimetype": "text/x-python",
   "name": "python",
   "nbconvert_exporter": "python",
   "pygments_lexer": "ipython3",
   "version": "3.6.1"
  }
 },
 "nbformat": 4,
 "nbformat_minor": 1
}
