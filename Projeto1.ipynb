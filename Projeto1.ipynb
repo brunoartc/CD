{
 "cells": [
  {
   "cell_type": "markdown",
   "metadata": {},
   "source": [
    "___\n",
    "# Ciência dos Dados - PROJETO 1"
   ]
  },
  {
   "cell_type": "markdown",
   "metadata": {},
   "source": [
    "## BRUNO ARTHUR CESCONETTO\n",
    "\n",
    "___"
   ]
  },
  {
   "cell_type": "markdown",
   "metadata": {},
   "source": [
    "## O QUE REALMENTE IMPORTA?\n",
    "\n",
    "\n",
    "___\n",
    "## Introdução\n",
    "\n",
    "Descreva aqui o que pretende analisar!\n",
    "\n",
    "Capriche no português!! \n",
    "Se quiser pode utilizar pesquisas semelhantes publicadas em sites confiáveis!!\n",
    "\n",
    "\n",
    "___\n",
    "## Análise e Resultados"
   ]
  },
  {
   "cell_type": "code",
   "execution_count": 18,
   "metadata": {
    "collapsed": true
   },
   "outputs": [],
   "source": [
    "%matplotlib inline\n",
    "import pandas as pd\n",
    "import matplotlib.pyplot as plt\n",
    "import numpy as np\n",
    "import os"
   ]
  },
  {
   "cell_type": "code",
   "execution_count": 19,
   "metadata": {
    "collapsed": true
   },
   "outputs": [],
   "source": [
    "def historiogram(x,step=5,start=0,stop=100,plot=0,relativo=0,title=\"undefined\"):\n",
    "    if (relativo==1):\n",
    "        step=(x.max()-x.min())/len(x)**(1/2)\n",
    "        faixa = np.arange(x.min(),x.max(),step)\n",
    "    else:\n",
    "        faixa = np.arange(start,stop,step)  \n",
    "    resp = pd.cut(x, bins=faixa, right=False)\n",
    "    if (plot==1):\n",
    "        plt.figure(figsize=(6,6))\n",
    "        plot = x.plot.hist(bins=faixa,title='GRAFICO de {}'.format(title), alpha=0.5)\n",
    "        plt.plot()\n",
    "    return [resp,faixa,\" \"]"
   ]
  },
  {
   "cell_type": "code",
   "execution_count": 20,
   "metadata": {},
   "outputs": [
    {
     "name": "stdout",
     "output_type": "stream",
     "text": [
      "Esperamos trabalhar no diretório\n",
      "/home/bruno/Documents/Ciencia dos dados/CD\n"
     ]
    }
   ],
   "source": [
    "print('Esperamos trabalhar no diretório')\n",
    "print(os.getcwd())"
   ]
  },
  {
   "cell_type": "code",
   "execution_count": 21,
   "metadata": {},
   "outputs": [],
   "source": [
    "#Se usar o arquivo descompactado\n",
    "#pd.read_csv('DOM2015.csv',sep=',')\n",
    "\n",
    "#Se usar o arquivo compactado como está no dropbox púbico\n",
    "db2013 = pd.read_csv('DOM2013csv.zip', compression='zip', header=0, sep=',', quotechar='\"')\n",
    "db2014 = pd.read_csv('DOM2014csv.zip', compression='zip', header=0, sep=',', quotechar='\"')\n",
    "db2015 = pd.read_csv('DOM2015csv.zip', compression='zip', header=0, sep=',', quotechar='\"')"
   ]
  },
  {
   "cell_type": "code",
   "execution_count": 22,
   "metadata": {},
   "outputs": [],
   "source": [
    "#dadossemagua = db2013[(db.V0211 > 2) & ((db.V02424 < 3) | (db.V02322 < 3))]# tem acesso a internet mas nao a agua"
   ]
  },
  {
   "cell_type": "code",
   "execution_count": 25,
   "metadata": {},
   "outputs": [
    {
     "data": {
      "text/html": [
       "<div>\n",
       "<style>\n",
       "    .dataframe thead tr:only-child th {\n",
       "        text-align: right;\n",
       "    }\n",
       "\n",
       "    .dataframe thead th {\n",
       "        text-align: left;\n",
       "    }\n",
       "\n",
       "    .dataframe tbody tr th {\n",
       "        vertical-align: top;\n",
       "    }\n",
       "</style>\n",
       "<table border=\"1\" class=\"dataframe\">\n",
       "  <thead>\n",
       "    <tr style=\"text-align: right;\">\n",
       "      <th>internetXG</th>\n",
       "      <th>sim</th>\n",
       "      <th>nao</th>\n",
       "    </tr>\n",
       "    <tr>\n",
       "      <th>tvaCabo</th>\n",
       "      <th></th>\n",
       "      <th></th>\n",
       "    </tr>\n",
       "  </thead>\n",
       "  <tbody>\n",
       "    <tr>\n",
       "      <th>sim</th>\n",
       "      <td>9240</td>\n",
       "      <td>11149</td>\n",
       "    </tr>\n",
       "    <tr>\n",
       "      <th>nao</th>\n",
       "      <td>9368</td>\n",
       "      <td>10340</td>\n",
       "    </tr>\n",
       "    <tr>\n",
       "      <th>nao se sabe</th>\n",
       "      <td>910</td>\n",
       "      <td>1001</td>\n",
       "    </tr>\n",
       "  </tbody>\n",
       "</table>\n",
       "</div>"
      ],
      "text/plain": [
       "internetXG    sim    nao\n",
       "tvaCabo                 \n",
       "sim          9240  11149\n",
       "nao          9368  10340\n",
       "nao se sabe   910   1001"
      ]
     },
     "execution_count": 25,
     "metadata": {},
     "output_type": "execute_result"
    }
   ],
   "source": [
    "totalDeMoradores = db2015.V0105\n",
    "totalDeDomicilios = db2015.V0202\n",
    "tvacabo = db2015.V02273.astype('category')\n",
    "tvacabo.cat.categories = (\"sim\",\"nao\",\"nao se sabe\")\n",
    "RendimentoFamiliar= db2015.V4622\n",
    "agua = db2015.V0211.astype('category')\n",
    "agua.cat.categories = (\"sim\",\"teste\")\n",
    "internetXG = db2013.V02424.astype('category')\n",
    "internetXG.cat.categories = (\"sim\",\"nao\")\n",
    "internetCasa = db2013.V02322.astype('category')\n",
    "internetCasa.cat.categories = (\"sim\",\"nao\")\n",
    "\n",
    "DF2015 = pd.DataFrame()\n",
    "DF2015[\"totalDeMoradores\"]=totalDeMoradores\n",
    "DF2015[\"totalDeDomicilios\"]=totalDeDomicilios\n",
    "DF2015[\"tvaCabo\"]=tvacabo\n",
    "DF2015[\"RendimentoFamiliar\"]=RendimentoFamiliar\n",
    "DF2015[\"agua\"]=agua\n",
    "DF2015[\"internetXG\"]=internetXG\n",
    "DF2015[\"internetCasa\"]=internetCasa\n",
    "\n",
    "DF2015[DF2015.tvaCabo==\"sim\"].dropna()\n",
    "cross = pd.crosstab(DF2015.tvaCabo.dropna(),DF2015.internetXG.dropna())\n",
    "cross"
   ]
  },
  {
   "cell_type": "code",
   "execution_count": 26,
   "metadata": {},
   "outputs": [
    {
     "data": {
      "image/png": "[encoded data removed]",
      "text/plain": [
       "<matplotlib.figure.Figure at 0x7f4773faada0>"
      ]
     },
     "metadata": {},
     "output_type": "display_data"
    }
   ],
   "source": [
    "plot = cross.plot(kind=\"bar\")"
   ]
  },
  {
   "cell_type": "markdown",
   "metadata": {},
   "source": [
    "___\n",
    "## Conclusão "
   ]
  },
  {
   "cell_type": "markdown",
   "metadata": {
    "collapsed": true
   },
   "source": [
    "Descreva aqui suas conclusões!"
   ]
  },
  {
   "cell_type": "code",
   "execution_count": null,
   "metadata": {
    "collapsed": true
   },
   "outputs": [],
   "source": []
  },
  {
   "cell_type": "code",
   "execution_count": null,
   "metadata": {
    "collapsed": true
   },
   "outputs": [],
   "source": []
  }
 ],
 "metadata": {
  "anaconda-cloud": {},
  "kernelspec": {
   "display_name": "Python 3",
   "language": "python",
   "name": "python3"
  },
  "language_info": {
   "codemirror_mode": {
    "name": "ipython",
    "version": 3
   },
   "file_extension": ".py",
   "mimetype": "text/x-python",
   "name": "python",
   "nbconvert_exporter": "python",
   "pygments_lexer": "ipython3",
   "version": "3.6.1"
  }
 },
 "nbformat": 4,
 "nbformat_minor": 1
}
