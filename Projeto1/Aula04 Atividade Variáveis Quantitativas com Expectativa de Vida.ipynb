{
 "cells": [
  {
   "cell_type": "markdown",
   "metadata": {},
   "source": [
    "___\n",
    "# Atividade: Variáveis quantitativas com Expectativa de Vida\n",
    "___\n",
    "\n",
    "## Aula 04\n",
    "\n",
    "\n",
    "\n",
    "**Preparo prévio:**\n",
    "1.\tLeitura prévia necessária: Magalhães e Lima (7ª. Edição): pág. 9 a 17 – destacando para variáveis quantitativas; pág. 106 e 107 (Definição 4.1 e Exemplo 4.1).\n",
    "\n",
    "**Hoje:**\n",
    "1. Explorar a variável quantitativa Expectativa de Vida de diversos países do mundo nos anos: 1800, 1926 e 2000. \n",
    "2. Construir tabelas de frequências e interpretar resultados considerando variáveis quantitativas de forma univariada. \n",
    "4. Explicar vantagens e desvantagens sobre o uso da frequência ou da densidade na construção de um histograma e saber interpretá-lo. \n",
    "5. Desenvolver contas para obtenção da média e mediana nos três anos.\n",
    "6. Identificar o formato dos dados (simétrico, assimétrico positivo ou assimétrico negativo) ao observar um histograma e explicar o que cada formato pode impactar nas medidas de posição.\n",
    "\n",
    "\n",
    "**Próxima aula:**\n",
    "1. Leitura prévia necessária: Magalhães e Lima (7ª. Edição): pág. 18 a 25; pág. 106 e 107 (Definição 4.1 e Exemplo 4.1); pág. 116 e 117 (Definição 4.4 e Exemplo 4.8). \n",
    "2. Leitura prévia necessária: Montgomery et al (5ª. Edição): pág. 24 a 28.\n",
    "___\n"
   ]
  },
  {
   "cell_type": "markdown",
   "metadata": {},
   "source": [
    "## <font color='blue'>Expectativa de Vida - LIFE</font>\n",
    "\n",
    "O Banco Mundial (http://data.worldbank.org/brazilian-portuguese) disponibiliza bases de dados estatísticos para um pouco mais de 200 países do mundo desde o ano 1800, as quais consideram uma seleção abrangente de indicadores econômicos, sociais e ambientais. Um desses indicadores é a expectativa de vida (em anos) de cada país.\n",
    "\n",
    "O arquivo `Life.xlsx` contém a expectativa de vida de vários países para os anos 1800, 1926 e 2000.\n",
    "\n",
    "Considerando esses dados, faça as seguintes tarefas:\n",
    "\n",
    "1.\tConstrua uma tabela de frequências absolutas e relativas (em %) para cada um dos anos. \n",
    "\n",
    "2.\tConstrua um histograma para cada ano e interprete os gráficos. \n",
    "\n",
    "3. De acordo com o formato de um histograma, é possível classificar a distribuição dos dados como sendo: simétrica, assimétrica positiva (ou a direita) ou assimétrica negativa (ou a esquerda). Observando o formato de cada histograma construído no item anterior, classifique como sendo simétrico, assimétrico positivo ou assimétrico negativo. Argumente claramente o motivo de sua classificação. \n",
    "![AssimSim](AssimSim.jpg)\n",
    "\n",
    "4.\tPara cada ano, calcule a expectativa média de vida, a expectativa mediana de vida e a classe modal.\n",
    "\n",
    "5.\tPara cada um dos três anos, ordene os valores das medidas de posição (média, mediana e classe modal) obtidas no item anterior. A ordem dessas três medidas de posição é um mero acaso ou pode ser consequência do formato dos dados? Argumente claramente sua resposta.\n"
   ]
  },
  {
   "cell_type": "code",
   "execution_count": 1,
   "metadata": {
    "collapsed": true
   },
   "outputs": [],
   "source": [
    "%matplotlib inline\n",
    "import pandas as pd\n",
    "import matplotlib.pyplot as plt\n",
    "import os"
   ]
  },
  {
   "cell_type": "code",
   "execution_count": 2,
   "metadata": {},
   "outputs": [
    {
     "name": "stdout",
     "output_type": "stream",
     "text": [
      "Esperamos trabalhar no diretório\n",
      "/home/bruno/Downloads/CD\n"
     ]
    }
   ],
   "source": [
    "print('Esperamos trabalhar no diretório')\n",
    "print(os.getcwd())"
   ]
  },
  {
   "cell_type": "code",
   "execution_count": 3,
   "metadata": {
    "collapsed": true
   },
   "outputs": [],
   "source": [
    "dados = pd.read_excel('Life.xlsx')"
   ]
  },
  {
   "cell_type": "code",
   "execution_count": 4,
   "metadata": {},
   "outputs": [
    {
     "data": {
      "text/html": [
       "<div>\n",
       "<style>\n",
       "    .dataframe thead tr:only-child th {\n",
       "        text-align: right;\n",
       "    }\n",
       "\n",
       "    .dataframe thead th {\n",
       "        text-align: left;\n",
       "    }\n",
       "\n",
       "    .dataframe tbody tr th {\n",
       "        vertical-align: top;\n",
       "    }\n",
       "</style>\n",
       "<table border=\"1\" class=\"dataframe\">\n",
       "  <thead>\n",
       "    <tr style=\"text-align: right;\">\n",
       "      <th></th>\n",
       "      <th>Pais</th>\n",
       "      <th>L1800</th>\n",
       "      <th>L1926</th>\n",
       "      <th>L2000</th>\n",
       "    </tr>\n",
       "  </thead>\n",
       "  <tbody>\n",
       "    <tr>\n",
       "      <th>0</th>\n",
       "      <td>Afghanistan</td>\n",
       "      <td>28.2110</td>\n",
       "      <td>26.919920</td>\n",
       "      <td>51.0</td>\n",
       "    </tr>\n",
       "    <tr>\n",
       "      <th>1</th>\n",
       "      <td>Albania</td>\n",
       "      <td>35.4000</td>\n",
       "      <td>35.400000</td>\n",
       "      <td>74.2</td>\n",
       "    </tr>\n",
       "    <tr>\n",
       "      <th>2</th>\n",
       "      <td>Algeria</td>\n",
       "      <td>28.8224</td>\n",
       "      <td>30.968000</td>\n",
       "      <td>73.2</td>\n",
       "    </tr>\n",
       "    <tr>\n",
       "      <th>3</th>\n",
       "      <td>Angola</td>\n",
       "      <td>26.9800</td>\n",
       "      <td>26.980000</td>\n",
       "      <td>52.6</td>\n",
       "    </tr>\n",
       "    <tr>\n",
       "      <th>4</th>\n",
       "      <td>Antigua and Barbuda</td>\n",
       "      <td>33.5360</td>\n",
       "      <td>37.673931</td>\n",
       "      <td>73.9</td>\n",
       "    </tr>\n",
       "  </tbody>\n",
       "</table>\n",
       "</div>"
      ],
      "text/plain": [
       "                  Pais    L1800      L1926  L2000\n",
       "0          Afghanistan  28.2110  26.919920   51.0\n",
       "1              Albania  35.4000  35.400000   74.2\n",
       "2              Algeria  28.8224  30.968000   73.2\n",
       "3               Angola  26.9800  26.980000   52.6\n",
       "4  Antigua and Barbuda  33.5360  37.673931   73.9"
      ]
     },
     "execution_count": 4,
     "metadata": {},
     "output_type": "execute_result"
    }
   ],
   "source": [
    "dados.head()"
   ]
  },
  {
   "cell_type": "code",
   "execution_count": 5,
   "metadata": {},
   "outputs": [
    {
     "data": {
      "text/plain": [
       "count    201.000000\n",
       "mean      31.485800\n",
       "std        3.763625\n",
       "min       23.387000\n",
       "25%       29.000000\n",
       "50%       31.800000\n",
       "75%       33.900000\n",
       "max       42.845599\n",
       "Name: L1800, dtype: float64"
      ]
     },
     "execution_count": 5,
     "metadata": {},
     "output_type": "execute_result"
    }
   ],
   "source": [
    "dados.L1800.describe()"
   ]
  },
  {
   "cell_type": "code",
   "execution_count": 6,
   "metadata": {},
   "outputs": [
    {
     "data": {
      "text/plain": [
       "count    201.000000\n",
       "mean      36.353496\n",
       "std        9.590987\n",
       "min       23.387000\n",
       "25%       30.400000\n",
       "50%       32.800000\n",
       "75%       39.360000\n",
       "max       63.260000\n",
       "Name: L1926, dtype: float64"
      ]
     },
     "execution_count": 6,
     "metadata": {},
     "output_type": "execute_result"
    }
   ],
   "source": [
    "dados.L1926.describe()"
   ]
  },
  {
   "cell_type": "code",
   "execution_count": 7,
   "metadata": {},
   "outputs": [
    {
     "data": {
      "text/plain": [
       "count    201.000000\n",
       "mean      68.012856\n",
       "std        9.211812\n",
       "min       45.700000\n",
       "25%       61.400000\n",
       "50%       71.200000\n",
       "75%       75.000000\n",
       "max       81.100000\n",
       "Name: L2000, dtype: float64"
      ]
     },
     "execution_count": 7,
     "metadata": {},
     "output_type": "execute_result"
    }
   ],
   "source": [
    "dados.L2000.describe()"
   ]
  },
  {
   "cell_type": "code",
   "execution_count": 8,
   "metadata": {},
   "outputs": [
    {
     "data": {
      "text/plain": [
       "<matplotlib.axes._subplots.AxesSubplot at 0x7fcceed477b8>"
      ]
     },
     "execution_count": 8,
     "metadata": {},
     "output_type": "execute_result"
    },
    {
     "data": {
      "image/png": "[encoded data removed]",
      "text/plain": [
       "<matplotlib.figure.Figure at 0x7fccef01c438>"
      ]
     },
     "metadata": {},
     "output_type": "display_data"
    }
   ],
   "source": [
    "dados.L2000.plot(kind=\"bar\")"
   ]
  },
  {
   "cell_type": "code",
   "execution_count": 11,
   "metadata": {
    "collapsed": true
   },
   "outputs": [],
   "source": [
    "import numpy as np\n",
    "z=131\n",
    "def graff(x,step,plot=0,relativo=0,title=\"undefined\"):\n",
    "    global z\n",
    "    if (relativo==1):\n",
    "        faixa = np.arange(x.min(),x.max(),step)\n",
    "    else:\n",
    "        faixa = np.arange(0,100,step)  \n",
    "    resp = pd.cut(x, bins=faixa, right=False)\n",
    "    if (plot==1):\n",
    "        plt.figure(figsize=(6,6))\n",
    "        plot = x.plot.hist(bins=faixa,title='GRAFICO de {}'.format(title), alpha=0.5)\n",
    "        z+=1\n",
    "    return [resp,faixa]"
   ]
  },
  {
   "cell_type": "code",
   "execution_count": 12,
   "metadata": {},
   "outputs": [
    {
     "data": {
      "text/plain": [
       "array([ 0,  2,  4,  6,  8, 10, 12, 14, 16, 18, 20, 22, 24, 26, 28, 30, 32,\n",
       "       34, 36, 38, 40, 42, 44, 46, 48, 50, 52, 54, 56, 58, 60, 62, 64, 66,\n",
       "       68, 70, 72, 74, 76, 78, 80, 82, 84, 86, 88, 90, 92, 94, 96, 98])"
      ]
     },
     "execution_count": 12,
     "metadata": {},
     "output_type": "execute_result"
    },
    {
     "data": {
      "image/png": "[encoded data removed]",
      "text/plain": [
       "<matplotlib.figure.Figure at 0x7fcceac80240>"
      ]
     },
     "metadata": {},
     "output_type": "display_data"
    },
    {
     "data": {
      "image/png": "[encoded data removed]",
      "text/plain": [
       "<matplotlib.figure.Figure at 0x7fcceac80208>"
      ]
     },
     "metadata": {},
     "output_type": "display_data"
    },
    {
     "data": {
      "image/png": "[encoded data removed]",
      "text/plain": [
       "<matplotlib.figure.Figure at 0x7fcceb341b38>"
      ]
     },
     "metadata": {},
     "output_type": "display_data"
    }
   ],
   "source": [
    "graff(dados.L2000,2,plot=1,title=\"2000\")[1]\n",
    "graff(dados.L1926,2,plot=1,title=\"1926\")[1]\n",
    "graff(dados.L1800,2,plot=1,title=\"1800\")[1]"
   ]
  },
  {
   "cell_type": "code",
   "execution_count": null,
   "metadata": {
    "collapsed": true
   },
   "outputs": [],
   "source": []
  },
  {
   "cell_type": "code",
   "execution_count": null,
   "metadata": {
    "collapsed": true
   },
   "outputs": [],
   "source": []
  }
 ],
 "metadata": {
  "anaconda-cloud": {},
  "kernelspec": {
   "display_name": "Python 3",
   "language": "python",
   "name": "python3"
  },
  "language_info": {
   "codemirror_mode": {
    "name": "ipython",
    "version": 3
   },
   "file_extension": ".py",
   "mimetype": "text/x-python",
   "name": "python",
   "nbconvert_exporter": "python",
   "pygments_lexer": "ipython3",
   "version": "3.6.1"
  }
 },
 "nbformat": 4,
 "nbformat_minor": 1
}
