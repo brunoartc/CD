{
 "cells": [
  {
   "cell_type": "markdown",
   "metadata": {},
   "source": [
    "# Projeto 2 - Classificador Automático de Sentimento\n",
    "\n",
    "Você foi contratado por uma empresa parar analisar como os clientes estão reagindo a um determinado produto no Twitter. A empresa deseja que você crie um programa que irá analisar as mensagens disponíveis e classificará como \"relevante\" ou \"irrelevante\". Com isso ela deseja que mensagens negativas, que denigrem o nome do produto, ou que mereçam destaque, disparem um foco de atenção da área de marketing.<br /><br />\n",
    "Como aluno de Ciência dos Dados, você lembrou do Teorema de Bayes, mais especificamente do Classificador Naive-Bayes, que é largamente utilizado em filtros anti-spam de e-mails. O classificador permite calcular qual a probabilidade de uma mensagem ser relevante dadas as palavras em seu conteúdo.<br /><br />\n",
    "Para realizar o MVP (*minimum viable product*) do projeto, você precisa implementar uma versão do classificador que \"aprende\" o que é relevante com uma base de treinamento e compara a performance dos resultados com uma base de testes.<br /><br />\n",
    "Após validado, o seu protótipo poderá também capturar e classificar automaticamente as mensagens da plataforma.\n",
    "\n",
    "## Informações do Projeto\n",
    "\n",
    "Prazo: 13/Set até às 23:59.<br />\n",
    "Grupo: 1 ou 2 pessoas.<br /><br />\n",
    "Entregáveis via GitHub: \n",
    "* Arquivo notebook com o código do classificador, seguindo as orientações abaixo.\n",
    "* Arquivo Excel com as bases de treinamento e teste totalmente classificado.\n",
    "\n",
    "**NÃO disponibilizar o arquivo com os *access keys/tokens* do Twitter.**\n",
    "\n",
    "\n",
    "### Check 3: \n",
    "\n",
    "Até o dia 06 de Setembro às 23:59, o notebook e o xlsx devem estar no Github com as seguintes evidências: \n",
    "    * Conta no twitter criada.\n",
    "    * Produto escolhido.\n",
    "    * Arquivo Excel contendo a base de treinamento e teste já classificado.\n",
    "    \n",
    "\n",
    "Sugestão de leitura:<br />\n",
    "http://docs.tweepy.org/en/v3.5.0/index.html<br />\n",
    "https://monkeylearn.com/blog/practical-explanation-naive-bayes-classifier/"
   ]
  },
  {
   "cell_type": "markdown",
   "metadata": {},
   "source": [
    "___\n",
    "\n",
    "## Preparando o ambiente\n",
    "\n",
    "Instalando a biblioteca *tweepy* para realizar a conexão com o Twitter:"
   ]
  },
  {
   "cell_type": "code",
   "execution_count": 1,
   "metadata": {
    "collapsed": true
   },
   "outputs": [],
   "source": [
    "%%capture\n",
    "\n",
    "#Instalando o tweepy\n",
    "!pip install tweepy"
   ]
  },
  {
   "cell_type": "markdown",
   "metadata": {},
   "source": [
    "Importando as Bibliotecas que serão utilizadas. Esteja livre para adicionar outras."
   ]
  },
  {
   "cell_type": "code",
   "execution_count": 2,
   "metadata": {
    "collapsed": true
   },
   "outputs": [],
   "source": [
    "import tweepy\n",
    "import math\n",
    "import os.path\n",
    "import pandas as pd\n",
    "import json\n",
    "from random import shuffle"
   ]
  },
  {
   "cell_type": "markdown",
   "metadata": {},
   "source": [
    "___\n",
    "## Autenticando no  Twitter\n",
    "\n",
    "Para realizar a captura dos dados é necessário ter uma conta cadastrada no twitter:\n",
    "\n",
    "* Conta: ***[Preencha aqui o id da sua conta. Ex: @fulano ]***\n",
    "\n",
    "\n",
    "1. Caso ainda não tenha uma: https://twitter.com/signup\n",
    "1. Depois é necessário registrar um app para usar a biblioteca: https://apps.twitter.com/\n",
    "1. Dentro do registro do App, na aba Keys and Access Tokens, anotar os seguintes campos:\n",
    "    1. Consumer Key (API Key)\n",
    "    1. Consumer Secret (API Secret)\n",
    "1. Mais abaixo, gere um Token e anote também:\n",
    "    1. Access Token\n",
    "    1. Access Token Secret\n",
    "    \n",
    "1. Preencha os valores no arquivo \"auth.pass\"\n",
    "\n",
    "**ATENÇÃO**: Nunca divulgue os dados desse arquivo online (GitHub, etc). Ele contém as chaves necessárias para realizar as operações no twitter de forma automática e portanto é equivalente a ser \"hackeado\". De posse desses dados, pessoas mal intencionadas podem fazer todas as operações manuais (tweetar, seguir, bloquear/desbloquear, listar os seguidores, etc). Para efeito do projeto, esse arquivo não precisa ser entregue!!!"
   ]
  },
  {
   "cell_type": "code",
   "execution_count": 3,
   "metadata": {
    "collapsed": true
   },
   "outputs": [],
   "source": [
    "#Dados de autenticação do twitter:\n",
    "\n",
    "#Coloque aqui o identificador da conta no twitter: @fulano\n",
    "\n",
    "#leitura do arquivo no formato JSON\n",
    "with open('auth.pass') as fp:    \n",
    "    data = json.load(fp)\n",
    "\n",
    "#Configurando a biblioteca. Não modificar\n",
    "auth = tweepy.OAuthHandler(data['consumer_key'], data['consumer_secret'])\n",
    "auth.set_access_token(data['access_token'], data['access_token_secret'])"
   ]
  },
  {
   "cell_type": "markdown",
   "metadata": {},
   "source": [
    "___\n",
    "## Coletando Dados\n",
    "\n",
    "Agora vamos coletar os dados. Tenha em mente que dependendo do produto escolhido, não haverá uma quantidade significativa de mensagens, ou ainda poder haver muitos retweets.<br /><br /> \n",
    "Configurando:"
   ]
  },
  {
   "cell_type": "code",
   "execution_count": 4,
   "metadata": {
    "collapsed": true
   },
   "outputs": [],
   "source": [
    "#Produto escolhido:\n",
    "produto = 'Snickers'\n",
    "\n",
    "#Quantidade mínima de mensagens capturadas:\n",
    "n = 500\n",
    "#Quantidade mínima de mensagens para a base de treinamento:\n",
    "t = 300\n",
    "\n",
    "#Filtro de língua, escolha uma na tabela ISO 639-1.\n",
    "lang = 'pt'"
   ]
  },
  {
   "cell_type": "markdown",
   "metadata": {},
   "source": [
    "Capturando os dados do twitter:"
   ]
  },
  {
   "cell_type": "code",
   "execution_count": 5,
   "metadata": {
    "collapsed": true
   },
   "outputs": [],
   "source": [
    "#Cria um objeto para a captura\n",
    "api = tweepy.API(auth)\n",
    "\n",
    "#Inicia a captura, para mais detalhes: ver a documentação do tweepy\n",
    "i = 1\n",
    "msgs = []\n",
    "for msg in tweepy.Cursor(api.search, q=produto, lang=lang).items():    \n",
    "    msgs.append(msg.text.lower())\n",
    "    i += 1\n",
    "    if i > n:\n",
    "        break\n",
    "\n",
    "#Embaralhando as mensagens para reduzir um possível viés\n",
    "shuffle(msgs)"
   ]
  },
  {
   "cell_type": "markdown",
   "metadata": {},
   "source": [
    "Salvando os dados em uma planilha Excel:"
   ]
  },
  {
   "cell_type": "code",
   "execution_count": 6,
   "metadata": {
    "collapsed": true
   },
   "outputs": [],
   "source": [
    "#Verifica se o arquivo não existe para não substituir um conjunto pronto\n",
    "if not os.path.isfile('./{0}.xlsx'.format(produto)):\n",
    "    \n",
    "    #Abre o arquivo para escrita\n",
    "    writer = pd.ExcelWriter('{0}.xlsx'.format(produto))\n",
    "\n",
    "    #divide o conjunto de mensagens em duas planilhas\n",
    "    dft = pd.DataFrame({'Treinamento' : pd.Series(msgs[:t])})\n",
    "    dft.to_excel(excel_writer = writer, sheet_name = 'Treinamento', index = False)\n",
    "\n",
    "    dfc = pd.DataFrame({'Teste' : pd.Series(msgs[t:])})\n",
    "    dfc.to_excel(excel_writer = writer, sheet_name = 'Teste', index = False)\n",
    "\n",
    "    #fecha o arquivo\n",
    "    writer.save()"
   ]
  },
  {
   "cell_type": "markdown",
   "metadata": {},
   "source": [
    "___\n",
    "## Classificando as Mensagens\n",
    "\n",
    "Agora você deve abrir o arquivo Excel com as mensagens capturadas e classificar na Coluna B se a mensagem é relevante ou não.<br /> \n",
    "Não se esqueça de colocar um nome para a coluna na célula **B1**.<br /><br />\n",
    "Fazer o mesmo na planilha de Controle.\n",
    "\n",
    "___\n",
    "## Montando o Classificador Naive-Bayes\n",
    "\n",
    "Com a base de treinamento montada, comece a desenvolver o classificador. Escreva o seu código abaixo:\n",
    "\n",
    "Opcionalmente: \n",
    "* Limpar as mensagens removendo os caracteres: enter, :, \", ', (, ), etc. Não remover emojis.<br />\n",
    "* Corrigir separação de espaços entre palavras e/ou emojis.\n",
    "* Propor outras limpezas/transformações que não afetem a qualidade da informação.\n",
    "\n"
   ]
  },
  {
   "cell_type": "code",
   "execution_count": 7,
   "metadata": {
    "collapsed": true
   },
   "outputs": [],
   "source": [
    "dadosteste = pd.read_excel('Snickers (teste).xlsx')\n",
    "dadostreino = pd.read_excel('Snickers (treino).xlsx')\n",
    "inutil=dadostreino.Treinamento[dadostreino.prob==3]\n",
    "util=dadostreino.Treinamento[dadostreino.prob<3]\n",
    "\n",
    "tudo=dadostreino.Treinamento\n",
    "\n",
    "testeinutil=dadosteste.Teste[dadosteste.prob==3]\n",
    "testeutil=dadosteste.Teste[dadosteste.prob<3]\n",
    "tudoteste=dadosteste.Teste"
   ]
  },
  {
   "cell_type": "code",
   "execution_count": 8,
   "metadata": {
    "collapsed": true
   },
   "outputs": [],
   "source": [
    "def crialista(x):\n",
    "    listatreino=[]\n",
    "\n",
    "    for i in x:\n",
    "        listatreino.append(i.split())\n",
    "    return listatreino"
   ]
  },
  {
   "cell_type": "code",
   "execution_count": 9,
   "metadata": {
    "collapsed": true
   },
   "outputs": [],
   "source": [
    "def formatlist(x):\n",
    "    newWord=0\n",
    "\n",
    "    remove = ['/','?','.',',',';',':','\\\\',',','+','@','#',\"'\",\"\\\"\",\"!\",\"(\",\")\"]\n",
    "\n",
    "    removeInWordFull = ['http',\"rt\"]    #ira remover a palavra inteira\n",
    "\n",
    "    removeInWordSlice = ['/','?','.',',',';',':','\\\\',',','+','@','#',\"'\",\"\\\"\",\"!\",\"(\",\")\"]     #ira remover o caractere da mensagem\n",
    "\n",
    "    inut = 0\n",
    "\n",
    "    for i in range(0,len(x)): #procurar cada mensagem [i index da mensagem]\n",
    "        for j in range(0,len(x[i])): #procurara cada palavra na mensagem [j index da palavra]\n",
    "\n",
    "            if x[i][j] in remove:         #remove a palavra inteira se bater com alguma do \"remove\"\n",
    "                inut+=1\n",
    "                x[i][j]=\"remuvido\"\n",
    "\n",
    "            for l in range(0,len(x[i][j])): #procurara cada letra na palavra [l index da letra]\n",
    "\n",
    "                if any(word in x[i][j] for word in removeInWordFull):\n",
    "                    inut+=1\n",
    "                    x[i][j]=\"remuvido\"          #remove se tiver sequencia de caracteres indesejados \n",
    "                    break\n",
    "\n",
    "                '''\n",
    "                if listatreino[i][j][l] in removeInWordFull:\n",
    "                    listatreino[i][j]=\"remuvido\"                  #remove se tiver caractere indesejado\n",
    "                    break\n",
    "                '''\n",
    "\n",
    "            for l in range(0,len(x[i][j])): #procurara cada letra na palavra [l index da letra]\n",
    "                if x[i][j][l] in removeInWordSlice:\n",
    "                    newWord = list(x[i][j])\n",
    "                    inut+=1\n",
    "                    del newWord[l]\n",
    "            if (newWord):\n",
    "                x[i][j]=''.join(newWord)\n",
    "            newWord=0\n",
    "\n",
    "\n",
    "    for i in range(0,len(x)): #procurar cada mensagem [i index da mensagem] \n",
    "        deleted=0\n",
    "        for j in range(0,len(x[i])): #procurara cada palavra na mensagem [j index da palavra]\n",
    "            if x[i][j+deleted]==\"remuvido\": #deleta todos os \"remuvido\"\n",
    "                del x[i][j+deleted]\n",
    "                deleted-=1\n",
    "    #print (\"foram removidos {} caracteres\".format(inut))  \n",
    "    return x"
   ]
  },
  {
   "cell_type": "code",
   "execution_count": 10,
   "metadata": {
    "collapsed": true
   },
   "outputs": [],
   "source": [
    "def prob(x) :\n",
    "    probDict = []\n",
    "\n",
    "    for i in range(0,len(x)): #procurar cada mensagem [i index da mensagem]\n",
    "        for j in range(0,len(x[i])): #procurara cada palavra na mensagem [j index da palavra]\n",
    "            ach=0\n",
    "            for k in range(0,len(probDict)):\n",
    "                if probDict[k][0] == x[i][j]:\n",
    "                    probDict[k][1]+=1\n",
    "                    ach=1\n",
    "\n",
    "            if ach==0:\n",
    "                probDict.append([x[i][j],1])\n",
    "            ach=0\n",
    "    return probDict"
   ]
  },
  {
   "cell_type": "code",
   "execution_count": 11,
   "metadata": {
    "collapsed": true
   },
   "outputs": [],
   "source": [
    "def formatprob(x):\n",
    "    NumTotal = 0\n",
    "    for i in x:\n",
    "        NumTotal += i[1]\n",
    "    for i in range(len(x)):\n",
    "        x[i] = [x[i][0],x[i][1],x[i][1]/NumTotal]\n",
    "    probDict_palavras = []\n",
    "    for i in range(len(x)):\n",
    "        probDict_palavras.append(x[i][0])\n",
    "    return ([x,probDict_palavras])"
   ]
  },
  {
   "cell_type": "code",
   "execution_count": 12,
   "metadata": {
    "collapsed": true
   },
   "outputs": [],
   "source": [
    "def multi(x):\n",
    "    resp=1\n",
    "    for i in x:\n",
    "        resp*=i\n",
    "    return resp"
   ]
  },
  {
   "cell_type": "code",
   "execution_count": 13,
   "metadata": {
    "collapsed": true
   },
   "outputs": [],
   "source": [
    "def probfrase(frase,probDict_palavras,probDict):\n",
    "    resp=[]\n",
    "    for i in frase:\n",
    "        prob_frase = []\n",
    "        for j in i:\n",
    "            if j in probDict_palavras:\n",
    "                ind = probDict_palavras.index(j)\n",
    "                prob_frase.append(probDict[ind][2])\n",
    "            else:\n",
    "                prob_frase.append(1)\n",
    "        resp.append([frase[frase.index(i)],multi(prob_frase)])\n",
    "    return resp"
   ]
  },
  {
   "cell_type": "code",
   "execution_count": 14,
   "metadata": {
    "collapsed": true
   },
   "outputs": [],
   "source": [
    "def bott(j,study=0):\n",
    "    resp=[]\n",
    "    for x in j:\n",
    "        lista=crialista(x)\n",
    "        lista=formatlist(lista)\n",
    "        lista=formatlist(lista)\n",
    "        problist=prob(lista)\n",
    "        problist=formatprob(problist)[0]\n",
    "        probpalavras=formatprob(problist)[1]\n",
    "        resp.append([lista,problist,probpalavras])\n",
    "    return resp"
   ]
  },
  {
   "cell_type": "code",
   "execution_count": 15,
   "metadata": {
    "collapsed": true
   },
   "outputs": [],
   "source": [
    "def ageitapa(x):\n",
    "    lista=crialista(x)\n",
    "    lista=formatlist(lista)\n",
    "    lista=formatlist(lista)\n",
    "    return lista"
   ]
  },
  {
   "cell_type": "code",
   "execution_count": 16,
   "metadata": {
    "collapsed": true
   },
   "outputs": [],
   "source": [
    "def botr(fraseb,x):\n",
    "    frasey=ageitapa(fraseb)\n",
    "    resp=[]\n",
    "    for i in x:\n",
    "        resp.append(probfrase(frasey,i[2],i[1]))\n",
    "    return resp"
   ]
  },
  {
   "cell_type": "code",
   "execution_count": 17,
   "metadata": {
    "collapsed": true
   },
   "outputs": [],
   "source": [
    "def formatbotr(x):\n",
    "    \n",
    "    resputil=[]\n",
    "    respinutil=[]\n",
    "    for i in range(0,len(x[1])):\n",
    "        if x[0][i][1] > x[1][i][1]:\n",
    "            respinutil.append(x[0][i][0])\n",
    "        else:\n",
    "            resputil.append(x[0][i][0])\n",
    "    return(resputil,respinutil)"
   ]
  },
  {
   "cell_type": "code",
   "execution_count": 20,
   "metadata": {
    "collapsed": false
   },
   "outputs": [
    {
     "name": "stdout",
     "output_type": "stream",
     "text": [
      "  TREINO\n",
      "pessoa\n",
      "0               @e3truelovers ah o twix e os snickers tb\n",
      "11     vcs viram que eu virei garota propaganda da sn...\n",
      "13     rt @porracavalcante: a pessoa mais sexy comend...\n",
      "17     saudades da época que com r&amp;5,00 a gente c...\n",
      "27                               ganhei um snickers hoje\n",
      "29     se postar foto de @snickers no stories do inst...\n",
      "30         rt @chsnectar: queria so um snickers agora...\n",
      "31     @evertonferrer_ @gabrielsilsan_ ok mas cadê o ...\n",
      "34     rt @jackposobiec: ana navarro https://t.co/c41...\n",
      "37     serio\\nnem meu snickers de todo o santo dia eu...\n",
      "39     tu e ele amam-se porque não estam juntos de no...\n",
      "42     eu fiquei muito sem graça quando ela apareceu ...\n",
      "44     muitos parabéns :d — obrigadooo https://t.co/g...\n",
      "56     comendo snickers pela primeira vez https://t.c...\n",
      "63     vocês eram o meu casal #goals 😍😍 — obrigado 😅😅...\n",
      "64     @rvfvquintana tu só quer que eu coma snickers,...\n",
      "78     atribuí nota 8 ao episódio 5x7 - full bush, ha...\n",
      "80     esse snickers diz muito sobre mim https://t.co...\n",
      "96     é muito ruim cometer um suicídio por causa de ...\n",
      "98     vocês namoraram 3 anos e tal, durante esses 3 ...\n",
      "99     rt @pele: obrigado @snickers e amigos por part...\n",
      "101    rt @pele: obrigado @snickers e amigos por part...\n",
      "102    https://t.co/jb9ju6frz2\\n\\nestamos nas colinas...\n",
      "103    kit kat, snickers, ou qualquer um com amendoim...\n",
      "112    continue assim bpontual!\\n\\n#cipómuaythai #mua...\n",
      "124    rt @pele: obrigado @snickers e amigos por part...\n",
      "126    eu produzi tanta remela hoje que da pra rechea...\n",
      "129    rt @juliasemacento_: perdoa snickers, ela n sa...\n",
      "130    acabei de comer um snickers e um talento de ch...\n",
      "136    tô agoniada pq meus snickers do insta não apar...\n",
      "                             ...                        \n",
      "195    voltem a se-lo pff 😞😞 — as coisas não funciona...\n",
      "197    pareces ser simpática — obrigado, acho que pos...\n",
      "205    falei pro gui que ia almoçar um snickers ele m...\n",
      "207    @helter__skelter fica assim não migué, vem aqu...\n",
      "211    @iscamiiizer logo depois compra uma caixa de s...\n",
      "213    rt @pdrgds: a vida eh muito cruel. 20 minutos ...\n",
      "214    sozinho em casa\\ncomendo snickers\\nassistindo ...\n",
      "215    estao tao gordo que os snickers puseram a minh...\n",
      "216    rt @pele: obrigado @snickers e amigos por part...\n",
      "228    rt @bobohunnie: eu tô só esses snickers https:...\n",
      "229    @santraginusv @hilariousedited olha, snickers ...\n",
      "242    rt @juliasemacento_: perdoa snickers, ela n sa...\n",
      "251    raramente como snickers, no dia que resolvo fa...\n",
      "253    parece q foi ontem q eu tava sentada no sol ou...\n",
      "258    @17_psychofaraco fui comprar um snickers e fal...\n",
      "260    @pitabelmonte pior q a pergunta geral,é a q fa...\n",
      "265      falando nisso, ela me deve um snickers até hoje\n",
      "266    como estou me sentido hoje #snickers https://t...\n",
      "267    snickers adivinhando minha personalidade https...\n",
      "278    rt @pele: obrigado @snickers e amigos por part...\n",
      "284    @luccasnetobr oi luccas fazer uma seri\\n10 twi...\n",
      "285    todo mundo reclamou que embalagem do snickers ...\n",
      "288    peguei aleatoriamente um snickers e só vi agor...\n",
      "289    @daanimmartins snickers &gt; 5 stars &gt; twix...\n",
      "291              só esse kitkat e esse snickers msm haha\n",
      "292        achei meu snickers :p https://t.co/rew0kiu0a6\n",
      "293    @lordjonh07 achei que vinham 20 snickers na caixa\n",
      "294    rt @lauraserafim9: hoje eu tava só esse snicke...\n",
      "296    perdoa snickers, ela n sabe o q fala https://t...\n",
      "297    gente, achei meus snickers! 😂😂😂 https://t.co/i...\n",
      "Name: Treinamento, dtype: object  inutil\n",
      "1      rt @lauraserafim9: hoje eu tava só esse snicke...\n",
      "2      @rangel_vibestmb @hilariousedited prefiro snic...\n",
      "3      rt @portalstylinson: + harry: louis, come um s...\n",
      "4      tô lembrando eu acordada às 4h procurando meu ...\n",
      "5      hoje meu amor comprou um snickers pra mim escr...\n",
      "6      @sintoniaverso @douglasmoreti_ so troca pq nao...\n",
      "7                  *snickers não mata a fome de ninguém*\n",
      "8      tentem acha um chocolate melhor que snickers e...\n",
      "9                         snickers é muito bom\\nna moral\n",
      "10     @matheodore_ @dougnute a bichinha tá com fome,...\n",
      "12     fui comprar água e voltei com 3 snickers ;( ma...\n",
      "14     @pauletxz @emersom_martins a filha de vocês ta...\n",
      "15     rt @portalstylinson: + harry: louis, come um s...\n",
      "16     minha amg trouxe remédio e uma barrinha de sni...\n",
      "18     @tdpocrlh_ @anacbower já comi um snickers, est...\n",
      "19     rt @portalstylinson: + harry: louis, come um s...\n",
      "20     @fakercanita prova. também é mt boa. eu só c m...\n",
      "21     rt @josuemmoutinho: @tdpocrlh_ @anacbower já c...\n",
      "22     meu pai comprou uma caixa de snickers pra mim,...\n",
      "23         me deram snickers, não podia estar mais feliz\n",
      "24     minha mãe comprou dois snickers escrito \"mimim...\n",
      "25     rt @portalstylinson: + harry: louis, come um s...\n",
      "26     @lobodejuda @aksumai @mesaque_orel compra um s...\n",
      "28     toda vez que paro no terminal integrado do cen...\n",
      "32     hoje eu tô só o snickers do mercado https://t....\n",
      "33     rt @portalstylinson: + harry: louis, come um s...\n",
      "35                       que vontadezinha de um snickers\n",
      "36     em pensar que eu um dia eu abri a boca pra fal...\n",
      "38     rt @_madusoars: @rvfvquintana tu só quer que e...\n",
      "40     rt @portalstylinson: + harry: louis, come um s...\n",
      "                             ...                        \n",
      "254                      que vontade de comer snickers 😞\n",
      "255            aaaaaaaa esqueci de comprar meus snickers\n",
      "256    achei o snickers q e a minha cara 💁🏼‍♂️❣️ http...\n",
      "257    vontade de um snickers e uma barra de chocolat...\n",
      "259    impressionante q a primeira coisa que fiz depo...\n",
      "261    rt @isbwlsa: que vontade de fugir de tudo e to...\n",
      "262        rt @chsnectar: queria so um snickers agora...\n",
      "263    muita gente me deixando com vontade de comer s...\n",
      "264        queria uma caixa cheia de barras de snickers.\n",
      "268    rt @portalstylinson: + harry: louis, come um s...\n",
      "269    rt @portalstylinson: + harry: louis, come um s...\n",
      "270    rt @portalstylinson: + harry: louis, come um s...\n",
      "271    comprei esses snickers e nunca me identifiquei...\n",
      "272    queria agradecer muito a pessoa que inventou o...\n",
      "273    rt @portalstylinson: + harry: louis, come um s...\n",
      "274    única parte feliz do meu dia é ganhar snickers...\n",
      "275    rt @portalstylinson: + harry: louis, come um s...\n",
      "276    comi um snickers que olha... vlw a existência ...\n",
      "277    tem propaganda mais problematica do que da sni...\n",
      "279    os melhores mcflurrys são o de snickers e o de...\n",
      "280                       queria so um snickers agora...\n",
      "281                        eu tô viciada em snickers vei\n",
      "282    rt @portalstylinson: + harry: louis, come um s...\n",
      "283    queria uma coisa bem gostosa q começa c s \\nsn...\n",
      "286    rt @dolllluz: gente eu amo a coxinha do seu ze...\n",
      "287    rt @portalstylinson: + harry: louis, come um s...\n",
      "290    snickers é muito o amor da minha vida queria t...\n",
      "295    nao fui na academia hoje ai acabei e comprei u...\n",
      "298    rt @portalstylinson: + harry: louis, come um s...\n",
      "299    to com o projeto pra emagrecer e tem um snicke...\n",
      "Name: Treinamento, dtype: object  uteis\n",
      "bot\n",
      "[['e3truelovers', 'ah', 'o', 'twix', 'e', 'os', 'snickers', 'tb'], ['vcs', 'viram', 'que', 'eu', 'virei', 'garota', 'propaganda', 'da', 'snickers'], ['porracavalcante', 'a', 'pessoa', 'mais', 'sexy', 'comendo', 'snicker', 'que', 'você', 'conhece', 'snickers'], ['saudades', 'da', 'época', 'que', 'com', 'r&amp500', 'a', 'gente', 'comprava', 'dois', 'snickers', 'e', 'coca', 'ainda', 'xisleybarros'], ['ganhei', 'um', 'snickers', 'hoje'], ['se', 'postar', 'foto', 'de', 'snickers', 'no', 'stories', 'do', 'insta', 'ganha', 'de', 'graça', 'e', 'eu', 'não', 'to', 'sabendo'], ['chsnectar', 'queria', 'so', 'um', 'snickers', 'agora.'], ['gabrielsilsan_', 'ok', 'mas', 'cadê', 'o', 'snickers'], ['jackposobiec', 'ana', 'navarro'], ['serio', 'nem', 'meu', 'snickers', 'de', 'todo', 'o', 'santo', 'dia', 'eu', 'comprei', 'no', 'colegio', 'hoje', 'eu', 'to', 'brocadíssimo'], ['tu', 'e', 'ele', 'amam-se', 'porque', 'não', 'estam', 'juntos', 'de', 'novo', '—', 'porque', 'não', 'basta', 'gostar', 'um', 'do', 'outro', 'é', 'preciso', 'fazer.'], ['eu', 'fiquei', 'muito', 'sem', 'graça', 'quando', 'ela', 'apareceu', 'com', 'a', 'h2o', 'e', 'o', 'snickers'], ['muitos', 'parabéns', 'd', '—', 'obrigadooo'], ['comendo', 'snickers', 'pela', 'primeira', 'vez'], ['vocês', 'eram', 'o', 'meu', 'casal', 'goals', '😍😍', '—', 'obrigado', '😅😅'], ['chsnectar', 'queria', 'so', 'um', 'snickers', 'agora.'], ['atribuí', 'nota', '8', 'ao', 'episódio', '5x7', '-', 'full', 'bush', 'half', 'snickers', 'de', 'orange', 'is', 'the', 'new', 'black', 'bancodeseries'], ['esse', 'snickers', 'diz', 'muito', 'sobre', 'mim'], ['é', 'muito', 'ruim', 'cometer', 'um', 'suicídio', 'por', 'causa', 'de', 'um', 'snickers', 'google', 'pesquisar'], ['só', 'queria', 'uns', 'snickers', 'agora'], ['vocês', 'namoraram', '3', 'anos', 'e', 'tal', 'durante', 'esses', '3', 'anos', '.', '—', 'por', 'alguma', 'coisa', 'acabou'], ['pele', 'obrigado', 'snickers', 'e', 'amigos', 'por', 'do', 'playlikepele', 'passei', 'lindos', 'momentos', 'com', 'vocês', 'em', 'barcelona', 'deixem', 'a', 'bola', 'rola…'], ['pele', 'obrigado', 'snickers', 'e', 'amigos', 'por', 'do', 'playlikepele', 'passei', 'lindos', 'momentos', 'com', 'vocês', 'em', 'barcelona', 'deixem', 'a', 'bola', 'rola…'], ['estamos', 'nas', 'colinas', 'do', 'cruzeiro', 'na', 'quinta', 'do', 'borel', 'e', 'no', 'campera'], ['kit', 'kat', 'snickers', 'ou', 'qualquer', 'um', 'com', 'amendoim', 'dentro'], ['continue', 'assim', 'bpontual', 'cipómuaythai', 'muaythai', 'snickers', 'chocolate', 'students', 'gift', 'mimo…'], ['chsnectar', 'queria', 'so', 'um', 'snickers', 'agora.'], ['pele', 'obrigado', 'snickers', 'e', 'amigos', 'por', 'do', 'playlikepele', 'passei', 'lindos', 'momentos', 'com', 'vocês', 'em', 'barcelona', 'deixem', 'a', 'bola', 'rola…'], ['chsnectar', 'queria', 'so', 'um', 'snickers', 'agora.'], ['eu', 'produzi', 'tanta', 'remela', 'hoje', 'que', 'da', 'pra', 'rechear', 'um', 'snickers'], ['juliasemacento_', 'perdoa', 'snickers', 'ela', 'n', 'sabe', 'o', 'q', 'fala'], ['acabei', 'de', 'comer', 'um', 'snickers', 'e', 'um', 'talento', 'de', 'chocolate', 'branco', 'com', 'cereais', 'e', 'passas'], ['tô', 'agoniada', 'pq', 'meus', 'snickers', 'do', 'insta', 'não', 'aparecem', 'já', 'mexi', 'esse', 'telefoneapp', 'todo🙄😓'], ['danyliliang', 'nossa', 'tb', 'querooo', 'ai', 'vc', 'compra', 'uns', 'snickers', 'pra', 'nuis', 'hehehehe'], ['pele', 'obrigado', 'snickers', 'e', 'amigos', 'por', 'do', 'playlikepele', 'passei', 'lindos', 'momentos', 'com', 'vocês', 'em', 'barcelona', 'deixem', 'a', 'bola', 'rola…'], ['chsnectar', 'queria', 'so', 'um', 'snickers', 'agora.'], ['pcysgay', 'snickers', 'com', 'banana', 'eu', 'to', 'com', 'desgosto', 'do', 'ser', 'humano'], ['dudu', 'pagou', 'o', 'snickers', 'q', 'tava', 'me', 'devendo'], ['hj', 'eu', 'tô', 'só', 'esses', 'snickers'], ['brunahs_', 'tudo', 'bemqnd', 'eu', 'levar', 'churrosfinisnickers', 'quero', 'ver', 'vc', 'pedir'], ['aicoragem', 'fakercanita', 'prova', 'também', 'é', 'mt', 'boa', 'eu', 'só', 'c', 'milka', 'de', 'oreo', 'oves', 'moles', 'e', 'snickers', 'não', 'gosto', 'de', 'chocolate', 'preto', '😬', 'ainda', 'bem…'], ['atribuí', 'nota', '10', 'ao', 'episódio', '5x7', '-', 'full', 'bush', 'half', 'snickers', 'de', 'orange', 'is', 'the', 'new', 'black', 'bancodeseries'], ['marcelastulgys', 'hoje', 'eu', 'tô', 'só', 'o', 'snickers', 'do', 'mercado'], ['perdi', 'um', 'total', 'de', '12', 'minutos', 'desenhando', 'uma', 'carinha', 'no', 'meu', 'snickers', 'administro', 'bem', 'meu', 'tempo'], ['sadgwrlx', 'ironicovcs', 'e', 'o', 'snickers', 'também'], ['cchadwik', 'e3truelovers', 'ah', 'o', 'twix', 'e', 'os', 'snickers', 'tb'], ['juliasemacento_', 'perdoa', 'snickers', 'ela', 'n', 'sabe', 'o', 'q', 'fala'], ['dá', 'p', 'roubar', 'snickers', 'no', 'site', 'da', 'americanas'], ['chsnectar', 'queria', 'so', 'um', 'snickers', 'agora.'], ['acabei', 'de', 'escovar', 'os', 'dentes', 'e', 'comecei', 'a', 'comer', 'snickers'], ['voltem', 'a', 'se-lo', 'pff', '😞😞', '—', 'as', 'coisas', 'não', 'funcionam', 'assim'], ['pareces', 'ser', 'simpática', '—', 'obrigado', 'acho', 'que', 'posso', 'dizer', 'que', 'sou'], ['falei', 'pro', 'gui', 'que', 'ia', 'almoçar', 'um', 'snickers', 'ele', 'me', 'bateu', 'mentalmente'], ['helter__skelter', 'fica', 'assim', 'não', 'migué', 'vem', 'aqui', 'na', 'barra', 'que', 'te', 'dou', 'dois', 'snickers', '&lt3'], ['iscamiiizer', 'logo', 'depois', 'compra', 'uma', 'caixa', 'de', 'snickers'], ['pdrgds', 'a', 'vida', 'eh', 'muito', 'cruel', '20', 'minutos', 'de', 'corrida', 'a', '86', 'kmh', 'não', 'queima', 'nem', 'um', 'snickers'], ['sozinho', 'em', 'casa', 'comendo', 'snickers', 'assistindo', 'live', 'de', 'speedrun', 'de', 'resident', 'evil', 'é', 'disso', 'que', 'o', 'cara', 'gosta'], ['estao', 'tao', 'gordo', 'que', 'os', 'snickers', 'puseram', 'a', 'minha', 'alcunha', 'no', 'seu', 'embrulho'], ['pele', 'obrigado', 'snickers', 'e', 'amigos', 'por', 'do', 'playlikepele', 'passei', 'lindos', 'momentos', 'com', 'vocês', 'em', 'barcelona', 'deixem', 'a', 'bola', 'rola…'], ['bobohunnie', 'eu', 'tô', 'só', 'esses', 'snickers'], ['santraginusv', 'hilariousedited', 'olha', 'snickers', 'ja', 'foram', 'bem', 'degustados', 'pelo', 'meu', 'paladar', 'hj', 'em', 'dia', 'só', 'em', 'laricas', 'já…'], ['chsnectar', 'queria', 'so', 'um', 'snickers', 'agora.'], ['eu', 'só', 'queria', 'um', 'snickers'], ['chsnectar', 'queria', 'so', 'um', 'snickers', 'agora.'], ['juliasemacento_', 'perdoa', 'snickers', 'ela', 'n', 'sabe', 'o', 'q', 'fala'], ['raramente', 'como', 'snickers', 'no', 'dia', 'que', 'resolvo', 'fazer', 'isso', 'ataca', 'minha', 'enxaqueca', 'desisto'], ['parece', 'q', 'foi', 'ontem', 'q', 'eu', 'tava', 'sentada', 'no', 'sol', 'ouvindo', 'purpose', 'e', 'comendo', 'snickers'], ['17_psychofaraco', 'fui', 'comprar', 'um', 'snickers', 'e', 'faltou', '5', 'cent'], ['pitabelmonte', 'pior', 'q', 'a', 'pergunta', 'geralé', 'a', 'q', 'faço', 'a', 'mim', 'próprio;como', 'é', 'q', 'votaste', 'neste', 'homem', 'talvez', 'tivesse', 'fome…'], ['chsnectar', 'queria', 'so', 'um', 'snickers', 'agora.'], ['falando', 'nisso', 'ela', 'me', 'deve', 'um', 'snickers', 'até', 'hoje'], ['como', 'estou', 'me', 'sentido', 'hoje', 'snickers'], ['snickers', 'adivinhando', 'minha', 'personalidade'], ['pele', 'obrigado', 'snickers', 'e', 'amigos', 'por', 'do', 'playlikepele', 'passei', 'lindos', 'momentos', 'com', 'vocês', 'em', 'barcelona', 'deixem', 'a', 'bola', 'rola…'], ['queria', 'so', 'um', 'snickers', 'agora.'], ['luccasnetobr', 'oi', 'luccas', 'fazer', 'uma', 'seri', '10', 'twix12', 'kit', 'kat3', 'snickers15arremata', 'do', 'amor2', 'm', '&amp', 'm5', 'bis', 'xtra2', 'bis', 'oreo10', 'nutela6', 'batom8'], ['todo', 'mundo', 'reclamou', 'que', 'embalagem', 'do', 'snickers', 'vem', 'com', 'lesada', 'etc', 'todo', 'mundo', 'tira', 'foto', 'com', 'embalagem', 'de', 'snickers', 'escrito', 'lesada', 'etc'], ['peguei', 'aleatoriamente', 'um', 'snickers', 'e', 'só', 'vi', 'agora'], ['snickers', '&gt', '5', 'stars', '&gt', 'twix', 'foi', 'mal', 'aí'], ['só', 'esse', 'kitkat', 'e', 'esse', 'snickers', 'msm', 'haha'], ['lordjonh07', 'achei', 'que', 'vinham', '20', 'snickers', 'na', 'caixa'], ['perdoa', 'snickers', 'ela', 'n', 'sabe', 'o', 'q', 'fala'], ['gente', 'achei', 'meus', 'snickers', '😂😂😂']]  inuteis\n",
      "[['lauraserafim9', 'hoje', 'eu', 'tava', 'só', 'esse', 'snickers', 'rsrsss'], ['rangel_vibestmb', 'hilariousedited', 'prefiro', 'snickers', 'mas', 'que', 'sejam', 'abençoados', 'todos', 'os', 'causadores', 'de', 'gordura', 'abdomina…'], ['harry', 'louis', 'come', 'um', 'snickers', 'você', 'se', 'transforma', 'em', 'um', 'estagiário', 'da', 'modest', 'quando', 'está', 'com', 'fome'], ['tô', 'lembrando', 'eu', 'acordada', 'às', '4h', 'procurando', 'meu', 'celular', 'que', 'nem', 'uma', 'doida', 'até', 'na', 'geladeira', 'eu', 'olhei', 'pra', 'ver', 'se', 'tava', 'junto', 'do', 'snickers', '🤦🏼\\u200d♀️'], ['hoje', 'meu', 'amor', 'comprou', 'um', 'snickers', 'pra', 'mim', 'escrito', 'reclamona', '😑'], ['sintoniaverso', 'douglasmoreti_', 'so', 'troca', 'pq', 'nao', 'gosto', 'de', 'snickers'], ['*snickers', 'não', 'mata', 'a', 'fome', 'de', 'ninguém*'], ['tentem', 'acha', 'um', 'chocolate', 'melhor', 'que', 'snickers', 'e', 'falhem'], ['snickers', 'é', 'muito', 'bom', 'na', 'moral'], ['matheodore_', 'dougnute', 'a', 'bichinha', 'tá', 'com', 'fome', 'já', 'ofereci', 'um', 'snickers', 'pra', 'ela'], ['fui', 'comprar', 'água', 'e', 'voltei', 'com', '3', 'snickers', 'maldito', 'vício', 'em', 'chocolate'], ['pauletxz', 'a', 'filha', 'de', 'vocês', 'também', 'precisa', 'de', 'snickers'], ['harry', 'louis', 'come', 'um', 'snickers', 'você', 'se', 'transforma', 'em', 'um', 'estagiário', 'da', 'modest', 'quando', 'está', 'com', 'fome'], ['minha', 'amg', 'trouxe', 'remédio', 'e', 'uma', 'barrinha', 'de', 'snickers', 'p', 'mim', '😍'], ['tdpocrlh_', 'anacbower', 'já', 'comi', 'um', 'snickers', 'estou', 'melhor'], ['harry', 'louis', 'come', 'um', 'snickers', 'você', 'se', 'transforma', 'em', 'um', 'estagiário', 'da', 'modest', 'quando', 'está', 'com', 'fome'], ['fakercanita', 'prova', 'também', 'é', 'mt', 'boa', 'eu', 'só', 'c', 'milka', 'de', 'oreo', 'oves', 'moles', 'e', 'snickers', 'não', 'gosto', 'de', 'chocolate', 'preto', '😬', 'ainda', 'bem', 'q', 'n', 'vivo', 'aí', '😂'], ['josuemmoutinho', 'tdpocrlh_', 'anacbower', 'já', 'comi', 'um', 'snickers', 'estou', 'melhor'], ['meu', 'pai', 'comprou', 'uma', 'caixa', 'de', 'snickers', 'pra', 'mim', 'to', 'pouco', 'feliz'], ['me', 'deram', 'snickers', 'não', 'podia', 'estar', 'mais', 'feliz'], ['minha', 'mãe', 'comprou', 'dois', 'snickers', 'escrito', 'mimimi', 'e', 'irritada', 'deu', 'na', 'minha', 'mão', 'e', 'apenas', 'disse', 'n', 'preciso', 'falar', 'mais', 'nada', 'né', 'ata'], ['harry', 'louis', 'come', 'um', 'snickers', 'você', 'se', 'transforma', 'em', 'um', 'estagiário', 'da', 'modest', 'quando', 'está', 'com', 'fome'], ['lobodejuda', 'aksumai', 'mesaque_orel', 'compra', 'um', 'snickers', 'pra', 'ele.', 'antes', 'que', 'ele', 'vire', 'a', 'claudia', 'raia'], ['toda', 'vez', 'que', 'paro', 'no', 'terminal', 'integrado', 'do', 'centro', 'como', 'um', 'snickers'], ['hoje', 'eu', 'tô', 'só', 'o', 'snickers', 'do', 'mercado'], ['harry', 'louis', 'come', 'um', 'snickers', 'você', 'se', 'transforma', 'em', 'um', 'estagiário', 'da', 'modest', 'quando', 'está', 'com', 'fome'], ['que', 'vontadezinha', 'de', 'um', 'snickers'], ['em', 'pensar', 'que', 'eu', 'um', 'dia', 'eu', 'abri', 'a', 'boca', 'pra', 'falar', 'que', 'snickers', 'é', 'ruim'], ['_madusoars', 'rvfvquintana', 'tu', 'só', 'quer', 'que', 'eu', 'coma', 'snickers', 'eu', 'não', 'aguento', 'mais'], ['harry', 'louis', 'come', 'um', 'snickers', 'você', 'se', 'transforma', 'em', 'um', 'estagiário', 'da', 'modest', 'quando', 'está', 'com', 'fome'], ['como', 'vcs', 'conseguem', 'comer', 'um', 'snickers', 'inteiro', 'deus', 'me', 'livre', 'comi', 'um', 'e', 'tô', 'morrendo', 'aqui', 'muito', 'mais', 'muito', 'doce', 'a', 'glicose', 'deve', 'tá', 'em', '130mg'], ['aí', 'minha', 'vó', 'me', 'dá', 'um', 'snickers', 'escrito', 'isso😂❤'], ['harry', 'louis', 'come', 'um', 'snickers', 'você', 'se', 'transforma', 'em', 'um', 'estagiário', 'da', 'modest', 'quando', 'está', 'com', 'fome'], ['isbwlsa', 'que', 'vontade', 'de', 'fugir', 'de', 'tudo', 'e', 'todos', 'e', 'viver', 'apenas', 'no', 'meu', 'a', 'base', 'de', 'agua', 'e', 'snickers'], ['tmlinso', 'hj', 'eu', 'tô', 'só', 'esses', 'snickers'], ['nível', 'de', 'problematização', 'comercial', 'do', 'snickers'], ['morrendo', 'de', 'cólica', 'precisando', 'de', 'chocolate', 'e', 'meu', 'pai', 'comprou', 'snickers', 'p', 'mim', '❤'], ['minha', 'namorada', 'hj', 'me', 'deu', 'um', 'snickers', 'pra', 'comemorar', 'o', '1', 'dia', 'de', 'namoro'], ['ruipedr0p', 'a', 'minha', 'felicidade', 'ao', 'pedirem', 'me', 'o', 'meu', 'e-mail', 'e', 'a', 'dizer', 'que', 'vão', 'publicar', 'todos', 'os', 'meus', 'vídeos', 'na', 'página', 'da', 'snickers', '😂', 'w', 'pel…'], ['harry', 'louis', 'come', 'um', 'snickers', 'você', 'se', 'transforma', 'em', 'um', 'estagiário', 'da', 'modest', 'quando', 'está', 'com', 'fome'], ['comendo', 'aquele', 'snickers', 'e', 'pensando', 'na', 'minha', 'vida', 'maravilhosa'], ['harry', 'louis', 'come', 'um', 'snickers', 'você', 'se', 'transforma', 'em', 'um', 'estagiário', 'da', 'modest', 'quando', 'está', 'com', 'fome'], ['moh', 'tempão', 'que', 'não', 'como', 'snickers💔'], ['comi', '4', 'snickers', 'um', 'atrás', 'do', 'outro', 'dieta', 'da', 'semana'], ['rafaeladinardi', 'nao', 'fui', 'na', 'academia', 'hoje', 'ai', 'acabei', 'e', 'comprei', 'um', 'snickers'], ['ultimamente', 'ando', 'só', 'os', 'snickers'], ['harry', 'louis', 'come', 'um', 'snickers', 'você', 'se', 'transforma', 'em', 'um', 'estagiário', 'da', 'modest', 'quando', 'está', 'com', 'fome'], ['falei', 'pro', 'matheus', 'que', 'tava', 'com', 'fome', 'no', 'final', 'do', 'cursinho', 'tava', 'ele', 'me', 'esperando', 'com', 'um', 'snickers', 'será', 'q', 'amo'], ['harry', 'louis', 'come', 'um', 'snickers', 'você', 'se', 'transforma', 'em', 'um', 'estagiário', 'da', 'modest', 'quando', 'está', 'com', 'fome'], ['rvfvquintana', 'tu', 'só', 'quer', 'que', 'eu', 'coma', 'snickers', 'eu', 'não', 'aguento', 'mais'], ['lauraserafim9', 'hoje', 'eu', 'tava', 'só', 'esse', 'snickers', 'rsrsss'], ['vontade', 'd', 'lota', 'até', 'o', 'cu', 'd', 'snickers'], ['gente', 'o', 'único', 'chocolate', 'com', 'amendoim', 'permitido', 'nessa', 'terra', 'é', 'snickers'], ['harry', 'louis', 'come', 'um', 'snickers', 'você', 'se', 'transforma', 'em', 'um', 'estagiário', 'da', 'modest', 'quando', 'está', 'com', 'fome'], ['comer', 'um', 'snickers', 'show', 'de', 'almoço', 'msm'], ['já', 'contei', 'p', 'vcs', 'q', 'hj', 'comprei', '4', 'snickers', 'por', 'r$4,00?', 'o', 'dia', 'foi', 'top'], ['nunca', 'mais', 'vão', 'inventar', 'um', 'bombom', 'tão', 'perfeito', 'quanto', 'snickers'], ['guidomarcato', 'eu', 'gasto', '500', 'calorias', 'numa', 'corrida', 'e', 'ganho', 'de', 'volta', 'com', 'um', 'chocolatinho', 'snickers', 'ow', 'bosta', 'd', 'life'], ['harry', 'louis', 'come', 'um', 'snickers', 'você', 'se', 'transforma', 'em', 'um', 'estagiário', 'da', 'modest', 'quando', 'está', 'com', 'fome'], ['harry', 'louis', 'come', 'um', 'snickers', 'você', 'se', 'transforma', 'em', 'um', 'estagiário', 'da', 'modest', 'quando', 'está', 'com', 'fome'], ['rafuintheclub', 'quem', 'dá', 'snickers', 'escrito', '\"teimosa', 'e', '\"mimimi', 'pra', 'namorada', 'tem', 'que', 'ter', 'coragem', 'risos'], ['sabrinadmsc_', 'snickers', 'é', 'o', 'melhor', 'chocolate', 'que', 'existe', 'sem', 'condições'], ['harry', 'louis', 'come', 'um', 'snickers', 'você', 'se', 'transforma', 'em', 'um', 'estagiário', 'da', 'modest', 'quando', 'está', 'com', 'fome'], ['biduui', 'ela', 'ficou', 'do', 'meu', 'lado', 'enquanto', 'eu', 'comia', 'minha', 'marmita', 'no', 'chão', 'da', 'luz', 'e', 'ainda', 'comprou', 'h2o', 'e', 'snickers', 'pra', 'mim'], ['ruipedr0p', 'a', 'minha', 'felicidade', 'ao', 'pedirem', 'me', 'o', 'meu', 'e-mail', 'e', 'a', 'dizer', 'que', 'vão', 'publicar', 'todos', 'os', 'meus', 'vídeos', 'na', 'página', 'da', 'snickers', '😂', 'w', 'pel…'], ['pesbrazucas', 'gaymar', 'o', 'favorito', 'da', 'konami', 'é', 'gays', 'de', 'delicia', 'dura', 'nesse', 'grande', 'rabo', 'snickers', 'eu', 'sei'], ['gostei', 'de', 'um', 'vídeo', 'youtube', 'snickers', 'gigante', 'maior', 'do', 'mundo'], ['harry', 'louis', 'come', 'um', 'snickers', 'você', 'se', 'transforma', 'em', 'um', 'estagiário', 'da', 'modest', 'quando', 'está', 'com', 'fome'], ['carpediemspm', 'depois', 'que', 'comer', 'o', 'snickers', 'ou', 'me', 'doa', 'ele', 'e', 'ta', 'tudo', 'ok'], ['jovemnerd', 'ep', 'sobre', 'fama', 'olha', 'aí', 'um', 'snickers', 'do', 'pelé', 'em', 'berlim'], ['doce', 'de', 'amendoim', '1', 'real', 'dias', 'difíceis', 'snickers', '250', 'dias', 'de', 'glória'], ['snickers', 'n', 'sei', 'viver', 'sem', 'vc'], ['amanda', 'amiga', 'scrr', 'eu', 'esqueci', 'de', 'comprar', 'coisa', 'p', 'comer', 'e', 'só', 'tem', 'snickers'], ['g_zaranza', 'baianodeaguas', 'quero', 'um', 'snickers', 'se', 'n', 'a', 'ana', 'paula', 'vai', 'ficar', 'sabendo'], ['que', 'saudades', 'que', 'já', 'tinha', 'de', 'snickers'], ['10h', 'da', 'manhã', 'e', 'eu', 'já', 'comi', '3', 'snickers'], ['já', 'comi', 'meu', 'snickers', 'hj', 'vontade', 'de', 'comer', 'mais', 'uns', '30'], ['snickers', 'é', 'o', 'melhor', 'chocolate', 'que', 'existe', 'sem', 'condições'], ['ela', 'ficou', 'do', 'meu', 'lado', 'enquanto', 'eu', 'comia', 'minha', 'marmita', 'no', 'chão', 'da', 'luz', 'e', 'ainda', 'comprou', 'h2o', 'e', 'snickers', 'pra', 'mim'], ['bangtanmozao', 'o', 'melhor', 'snickers', 'que', 'você', 'respeita'], ['fui', 'assaltar', 'a', 'cozinha', 'a', 'essa', 'hora', 'e', 'achei', 'um', 'snickers', 'amei'], ['hoje', 'os', 'snickers', 'me', 'definiam', 'demais'], ['harry', 'louis', 'come', 'um', 'snickers', 'você', 'se', 'transforma', 'em', 'um', 'estagiário', 'da', 'modest', 'quando', 'está', 'com', 'fome'], ['eu', 'nn', 'gosto', 'de', 'snickers', 'por', 'causa', 'do', 'amendoim', 'ai', 'descobri', 'que', 'existe', 'o', 'twix', 'tô', 'feliz', 'p', 'caralho', 'gastando', 'dinheiro', 'tbm', 'p', 'crlh'], ['harry', 'louis', 'come', 'um', 'snickers', 'você', 'se', 'transforma', 'em', 'um', 'estagiário', 'da', 'modest', 'quando', 'está', 'com', 'fome'], ['snickers', 'é', 'muito', 'bom'], ['gabb_xavier', 'muita', 'gente', 'me', 'deixando', 'com', 'vontade', 'de', 'comer', 'snickers'], ['amaral_luuh_', 'meu', 'eu', 'amo', 'snickers', 'se', 'alguém', 'quiser', 'me', 'ver', 'feliz', 'é', 'só', 'me', 'dar', 'uma', 'barrinha'], ['alguém', 'me', 'dá', 'um', 'snickers'], ['gabrielsilsan_', 'raangelss', 'você', 'também', 'finge', 'que', 'gosta', 'dele', 'por', 'snickers'], ['higor', 'me', 'pagou', 'um', 'snickers', 'eu', 'amo', 'o', 'higor!!', '❤'], ['quem', 'tinha', 'snickers', 'em', 'era', 'ostentação'], ['mais', 'uma', 'vez', 'ganhando', 'snickers', 'e', 'percebendo', 'o', 'quanto', 'sou', 'um', 'amor'], ['cada', 'um', 'ganha', 'o', 'snickers', 'q', 'merece', 'amalu', 'faltam6dias'], ['ele', 'trouxe', 'um', 'snickers', 'pensando', 'em', 'mim', 'kkkk', 'tava', 'escrito', 'na', 'embalagem', 'lesada', 'fiquei', 'triste', 'mais', 'feliz', 'pq', 'tava', 'morrendo', 'd', 'vontade', 'de', 'comer'], ['dolllluz', 'gente', 'eu', 'amo', 'a', 'coxinha', 'do', 'seu', 'ze', 'amo', 'q', 'as', 'coisas', 'q', 'o', 'seu', 'ze', 'vende', 'são', 'baratas', 'e', 'boas', 'amo', 'o', 'snickers', 'de', '50', 'centavos', 'seu', 'ze', 'eu…'], ['whoislariss', 'faz', 'dois', 'q', 'fiz', 'a', 'minha', 'e', 'só', 'lembro', 'q', 'vomitei', 'por', 'causa', 'do', 'snickers'], ['se', 'alguém', 'me', 'der', 'um', 'snickers', 'vai-me', 'fazer', 'imensamente', 'feliz'], ['snickers', 'é', 'o', 'melhor', 'chocolate', 'do', 'mundo', 'mds'], ['mas', 'antes', 'minha', 'mãe', 'me', 'traz', 'um', 'snickers', 'gigante', 'pra', 'mim', 'eu', 'amo', 'essa', 'mulher', 'slcc'], ['harry', 'louis', 'come', 'um', 'snickers', 'você', 'se', 'transforma', 'em', 'um', 'estagiário', 'da', 'modest', 'quando', 'está', 'com', 'fome'], ['virou', 'meio', 'que', 'tradição', 'eu', 'dividir', 'snickers', 'com', 'a', 'baracho', 'aí', 'eu', 'compro', 'um', 'é', 'como', 'sozinha', 'é', 'estranho', 'melhor', 'dividir', 'as', 'gordurinhas', 'comela'], ['tava', 'com', 'tanta', 'vontade', 'de', 'comer', 'snickers', 'que', 'tive', 'que', 'compra', 'um'], ['ngm', 'ama', 'snickers', 'mais', 'do', 'que', 'eu'], ['ainda', 'vivendo', 'a', 'base', 'de', 'snickers'], ['se', 'snickers', 'não', 'é', 'o', 'melhor', 'chocolate', 'do', 'mundo', 'eu', 'não', 'sei', 'mais', 'de', 'nada'], ['snickers', 'é', 'mto', 'bom', 'pqp'], ['to', 'muito', 'viciada', 'em', 'snickers', '🍫😍'], ['só', 'um', 'snickers', 'para', 'me', 'dar', 'forças', 'depois', 'de', 'uma', 'sexta'], ['snickers', 'é', 'mt', 'bom', 'se', 'a', 'carol', 'não', 'levar', 'p', 'mim', 'amanhã', 'eu', 'vou', 'ficar', 'boladaaaaa'], ['cheguei', 'em', 'casa', 'e', 'a', 'mãe', 'tunha', 'comprado', 'um', 'snickers', 'pra', 'mim', '❤', 'terminando', 'o', 'dia', 'feliz'], ['eu', 'no', 'busao', 'morrendo', 'de', 'fome', 'ai', 'deus', 'manda', 'o', 'zoinho', 'que', 'me', 'deus', 'um', 'snickers', '❤️deus', 'é', 'baum'], ['jessmayfire', 'vai', 'lá', 'comprar', 'mais', 'e', 'traz', 'um', 'snickers', 'pra', 'mim', 'nois'], ['ricardolopes_27', 'o', 'snickers', 'tira', 'gds', 'fotos', 'tem', 'bué', 'talento'], ['nerdzinha_xd', 'tu', 'já', 'comeu', 'lion', 'da', 'nestlé', 'tão', 'bom', 'quanto', 'snickers'], ['harry', 'louis', 'come', 'um', 'snickers', 'você', 'se', 'transforma', 'em', 'um', 'estagiário', 'da', 'modest', 'quando', 'está', 'com', 'fome'], ['comprei', 'um', 'snickers', 'mas', 'não', 'posso', 'comer', 'existe', 'algum', 'sofrimento', 'maior'], ['minha', 'definição', 'em', '4', 'snickers'], ['ricardolopes_27', 'o', 'snickers', 'tira', 'gds', 'fotos', 'tem', 'bué', 'talento'], ['minha', 'vó', 'foi', 'comprar', 'cigarro', 'e', 'trouxe', 'snickers', 'p', 'eu', '❤'], ['a', 'pessoa', 'mais', 'sexy', 'comendo', 'snicker', 'que', 'você', 'conhece', 'snickers'], ['harry', 'louis', 'come', 'um', 'snickers', 'você', 'se', 'transforma', 'em', 'um', 'estagiário', 'da', 'modest', 'quando', 'está', 'com', 'fome'], ['eu', 'tô', 'só', 'esses', 'snickers'], ['propagando', 'do', 'snickers', 'é', 'mto', 'real', 'eu', 'n', 'sou', 'eu', 'mesmo', 'quando', 'to', 'com', 'fomet'], ['eu', 'daria', 'tudo', 'p', 'um', 'snickers', 'agora'], ['harry', 'louis', 'come', 'um', 'snickers', 'você', 'se', 'transforma', 'em', 'um', 'estagiário', 'da', 'modest', 'quando', 'está', 'com', 'fome'], ['meu', 'sonho', 'é', 'comer', 'um', 'snickers', 'agora'], ['estou', 'sendo', 'obrigada', 'a', 'tomar', 'café', 'c', 'um', 'snickers', 'me', 'sabotando'], ['parasnoia', 'já', 'estou', 'fazendo', 'bom', 'proveito', 'do', 'snickers'], ['falaamaria', 'guustavo_souza', 'também', 'é', 'bom', 'mas', 'snickers', 'é', 'topper'], ['quem', 'dá', 'snickers', 'escrito', '\"teimosa', 'e', '\"mimimi', 'pra', 'namorada', 'tem', 'que', 'ter', 'coragem', 'risos'], ['beatriizpires', 'snickers', 'é', 'mesmo', 'a', 'minha', 'cena', 'definitivamente', 'o', 'melhor', 'chocolate'], ['ruipedr0p', 'a', 'minha', 'felicidade', 'ao', 'pedirem', 'me', 'o', 'meu', 'e-mail', 'e', 'a', 'dizer', 'que', 'vão', 'publicar', 'todos', 'os', 'meus', 'vídeos', 'na', 'página', 'da', 'snickers', '😂', 'w', 'pel…'], ['vitorgaspio', 'snickers', 'é', 'o', 'melhor', 'chocolate', 'do', 'mundo', 'mds'], ['eu', 'tô', 'de', 'dieta', 'mas', 'tô', 'de', 'tpm', 'ou', 'seja', 'acabei', 'de', 'tacar', 'um', 'belo', 'de', 'um', 'foda-se', 'e', 'comi', 'um', 'snickers', 'no', 'regrets'], ['deixedeblefe', 'tomei', 'cerveja', 'fumei', 'fumei', '1', 'e', 'comi', '1', 'cornetto', 'de', 'caramelo', 'e', 'to', 'comendo', '1', 'snickers', 'pra', 'me', 'consolar', 'desse', 'golpe'], ['barritas', 'snickers', 'saudáveis', 'paleo'], ['vitorgaspio', 'snickers', 'é', 'o', 'melhor', 'chocolate', 'do', 'mundo', 'mds'], ['só', 'eu', 'q', 'acho', 'essa', 'embalagem', 'do', 'snickers', 'nada', 'a', 'ver', 'pq', 'n', 'aproveitam', 'pra', 'espalhar', 'palavras', 'positivas', 'por', 'ai', 'bem', '…'], ['eu', 'amo', 'snickers', '😍🍫❤'], ['snickers', 'eu', 'te', 'amo'], ['ataoxbianca', 'tu', 'n', 'és', 'tu', 'quando', 'tens', 'fome', 'relaxa', 'e', 'come', 'um', 'snickers'], ['comi', 'dois', 'snickers', 'meu', 'deus', 'maravilha'], ['gaybriel', 'me', 'deu', 'um', 'snickers', 'de', 'reclamona', 'mas', 'nem', 'me', 'o', 'que', 'vale', 'é', 'o', 'chocolate😂😂😂'], ['harry', 'louis', 'come', 'um', 'snickers', 'você', 'se', 'transforma', 'em', 'um', 'estagiário', 'da', 'modest', 'quando', 'está', 'com', 'fome'], ['caralho', 'eu', 'queria', 'muito', 'um', 'snickers', '💔'], ['tô', 'viciado', 'em', 'snickers'], ['os', 'grupos', 'do', 'wpp', 'sendo', 'floodados', 'com', 'áudios', 'de', 'gente', 'bêbada', 'e', 'eu', 'aqui', 'assistindo', 'à', 'segunda', 'temporada', 'de', 'hibike', 'enquanto', 'mordo', 'um', 'snickers'], ['comprei', 'tanto', 'snickers', 'meu', 'choc', 'fav', 'da', 'vida'], ['hoje', 'marlon', 'me', 'deu', 'um', 'snickers', 'escrito', 'lesada.'], ['maaripatriota', 'mais', 'uma', 'vez', 'ganhando', 'snickers', 'e', 'percebendo', 'o', 'quanto', 'sou', 'um', 'amor'], ['snickers', 'eu', 'te', 'amo', 'muito'], ['amor', 'chegou', 'com', 'snickers', 'pra', 'mim', 'hoje', 'fazia', 'teeempo', 'q', 'eu', 'não', 'comia', '❤❤❤'], ['a', 'fofa', 'precisa', 'de', 'um', 'snickers'], ['se', 'falar', 'que', 'o', 'enzao', 'não', 'pagou', 'duas', 'barras', 'de', 'chocolate', 'snickers', 'e', 'dois', 'fofuras', 'mentiu'], ['rangel_vibestmb', 'hilariousedited', 'snickers', 'é', 'meu', 'lifestyle', 'porque', 'tô', 'sempre', 'com', 'fome', 'e'], ['snickers', 'com', 'banana', 'eu', 'to', 'com', 'desgosto', 'do', 'ser', 'humano'], ['snickers', 'é', 'o', 'melhor', 'chocolate', 'bjs'], ['eu', 'gasto', '500', 'calorias', 'numa', 'corrida', 'e', 'ganho', 'de', 'volta', 'com', 'um', 'chocolatinho', 'snickers', 'ow', 'bosta', 'd', 'life'], ['meu', 'irmão', 'saiu', 'só', 'pra', 'comprar', 'um', 'snickers', 'pra', 'mim', 'eu', 'amo', 'ele'], ['vou', 'amassar', 'meu', 'snickers'], ['sou', 'tão', 'doida', 'por', 'snickers', 'meu', 'deus'], ['harry', 'louis', 'come', 'um', 'snickers', 'você', 'se', 'transforma', 'em', 'um', 'estagiário', 'da', 'modest', 'quando', 'está', 'com', 'fome'], ['harry', 'louis', 'come', 'um', 'snickers', 'você', 'se', 'transforma', 'em', 'um', 'estagiário', 'da', 'modest', 'quando', 'está', 'com', 'fome'], ['ironicovcs', 'thaischaves15', 'só', 'não', 'quero', 'o', 'snickers'], ['po', 'viciei', 'em', 'snickers'], ['é', 'do', 'snickers', 'foda', 'se', 'matem', 'me', 'por', 'favor'], ['snickers', 'me', 'definindo', 'quando', 'estou', 'com', 'fome'], ['mae', 'me', 'deu', 'um', 'snickers', 'agora', 'nem', 'queria', '😍'], ['snickers', 'pro', 'café', 'da', 'manhã', 'rs'], ['anamattosotc', 'virou', 'meio', 'que', 'tradição', 'eu', 'dividir', 'snickers', 'com', 'a', 'baracho', 'aí', 'eu', 'compro', 'um', 'é', 'como', 'sozinha', 'é', 'estranho', 'melhor', 'dividir', 'as…'], ['harry', 'louis', 'come', 'um', 'snickers', 'você', 'se', 'transforma', 'em', 'um', 'estagiário', 'da', 'modest', 'quando', 'está', 'com', 'fome'], ['gostei', 'de', 'um', 'vídeo', 'youtube', 'snickers', 'gigante', 'maior', 'do', 'mundo'], ['harry', 'louis', 'come', 'um', 'snickers', 'você', 'se', 'transforma', 'em', 'um', 'estagiário', 'da', 'modest', 'quando', 'está', 'com', 'fome'], ['harry', 'louis', 'come', 'um', 'snickers', 'você', 'se', 'transforma', 'em', 'um', 'estagiário', 'da', 'modest', 'quando', 'está', 'com', 'fome'], ['brunabaslio', 'meu', 'ponto', 'fraco', 'é', 'vê', 'um', 'snickers'], ['sabrinadmsc_', 'snickers', 'é', 'o', 'melhor', 'chocolate', 'que', 'existe', 'sem', 'condições'], ['harry', 'louis', 'come', 'um', 'snickers', 'você', 'se', 'transforma', 'em', 'um', 'estagiário', 'da', 'modest', 'quando', 'está', 'com', 'fome'], ['gabrielsilsan_', 'raangelss', 'eu', 'só', 'quero', 'snickers', 'mesmo'], ['esse', 'snickers', 'tava', 'com', 'gosto', 'de', 'bacuri'], ['fim', 'de', 'semana', 'sem', 'snickers', 'não', 'é', 'fim', 'de', 'semana'], ['snickers', 'kkkk', 'melhor', 'barra', 'de', 'chocolate'], ['como', 'um', 'snickers', 'e', 'já', 'quero', 'comer', 'mais', 'uns', 'dez'], ['preciso', 'de', 'snickers'], ['_021miranda', 'minha', 'namorada', 'hj', 'me', 'deu', 'um', 'snickers', 'pra', 'comemorar', 'o', '1', 'dia', 'de', 'namoro'], ['fazia', 'tempo', 'que', 'eu', 'não', 'comia', 'snickers', 'eh', 'mt', 'bom', '😋'], ['belém', 'é', 'tão', 'hipster', 'que', 'nem', 'o', 'snickers', 'com', 'palavras', 'diferentes', 'chegaram', 'ainda'], ['que', 'vontade', 'de', 'comer', 'snickers', '😞'], ['aaaaaaaa', 'esqueci', 'de', 'comprar', 'meus', 'snickers'], ['achei', 'o', 'snickers', 'q', 'e', 'a', 'minha', 'cara', '💁🏼\\u200d♂️❣️'], ['vontade', 'de', 'um', 'snickers', 'e', 'uma', 'barra', 'de', 'chocolate', 'branco', 'c', 'cookies'], ['impressionante', 'q', 'a', 'primeira', 'coisa', 'que', 'fiz', 'depois', 'de', 'fazer', 'exercício', 'foi', 'comer', 'um', 'snickers'], ['isbwlsa', 'que', 'vontade', 'de', 'fugir', 'de', 'tudo', 'e', 'todos', 'e', 'viver', 'apenas', 'no', 'meu', 'a', 'base', 'de', 'agua', 'e', 'snickers'], ['muita', 'gente', 'me', 'deixando', 'com', 'vontade', 'de', 'comer', 'snickers'], ['queria', 'uma', 'caixa', 'cheia', 'de', 'barras', 'de', 'snickers'], ['harry', 'louis', 'come', 'um', 'snickers', 'você', 'se', 'transforma', 'em', 'um', 'estagiário', 'da', 'modest', 'quando', 'está', 'com', 'fome'], ['harry', 'louis', 'come', 'um', 'snickers', 'você', 'se', 'transforma', 'em', 'um', 'estagiário', 'da', 'modest', 'quando', 'está', 'com', 'fome'], ['harry', 'louis', 'come', 'um', 'snickers', 'você', 'se', 'transforma', 'em', 'um', 'estagiário', 'da', 'modest', 'quando', 'está', 'com', 'fome'], ['comprei', 'esses', 'snickers', 'e', 'nunca', 'me', 'identifiquei', 'tanto'], ['queria', 'agradecer', 'muito', 'a', 'pessoa', 'que', 'inventou', 'o', 'snickers'], ['harry', 'louis', 'come', 'um', 'snickers', 'você', 'se', 'transforma', 'em', 'um', 'estagiário', 'da', 'modest', 'quando', 'está', 'com', 'fome'], ['única', 'feliz', 'do', 'meu', 'dia', 'é', 'ganhar', 'snickers', 'da', 'minha', 'mãe'], ['harry', 'louis', 'come', 'um', 'snickers', 'você', 'se', 'transforma', 'em', 'um', 'estagiário', 'da', 'modest', 'quando', 'está', 'com', 'fome'], ['comi', 'um', 'snickers', 'que', 'olha.', 'vlw', 'a', 'existência', 'de', 'hoje'], ['tem', 'propaganda', 'mais', 'problematica', 'do', 'que', 'da', 'snickers', 'e', 'as', 'embalagens', 'com', 'lesada', 'e', 'reclamona', 'e', 'imbecil??', 'gente?!?!!?!'], ['os', 'melhores', 'mcflurrys', 'são', 'o', 'de', 'snickers', 'e', 'o', 'de', 'oreo'], ['eu', 'tô', 'viciada', 'em', 'snickers', 'vei'], ['harry', 'louis', 'come', 'um', 'snickers', 'você', 'se', 'transforma', 'em', 'um', 'estagiário', 'da', 'modest', 'quando', 'está', 'com', 'fome'], ['queria', 'uma', 'coisa', 'bem', 'gostosa', 'q', 'começa', 'c', 's', 'snickers'], ['dolllluz', 'gente', 'eu', 'amo', 'a', 'coxinha', 'do', 'seu', 'ze', 'amo', 'q', 'as', 'coisas', 'q', 'o', 'seu', 'ze', 'vende', 'são', 'baratas', 'e', 'boas', 'amo', 'o', 'snickers', 'de', '50', 'centavos', 'seu', 'ze', 'eu…'], ['harry', 'louis', 'come', 'um', 'snickers', 'você', 'se', 'transforma', 'em', 'um', 'estagiário', 'da', 'modest', 'quando', 'está', 'com', 'fome'], ['snickers', 'é', 'muito', 'o', 'amor', 'da', 'minha', 'vida', 'queria', 'tanto', 'um', 'agora'], ['achei', 'meu', 'snickers', 'p'], ['lauraserafim9', 'hoje', 'eu', 'tava', 'só', 'esse', 'snickers', 'rsrsss'], ['nao', 'fui', 'na', 'academia', 'hoje', 'ai', 'acabei', 'e', 'comprei', 'um', 'snickers'], ['harry', 'louis', 'come', 'um', 'snickers', 'você', 'se', 'transforma', 'em', 'um', 'estagiário', 'da', 'modest', 'quando', 'está', 'com', 'fome'], ['to', 'com', 'o', 'projeto', 'pra', 'emagrecer', 'e', 'tem', 'um', 'snickers', 'na', 'geladeira', 'eis', 'a', 'questão', 'começar', 'a', 'dieta', 'agora', 'ou', 'quando', 'começar', 'academia']]  uteis\n",
      "\n",
      "  TESTE\n",
      "pessoa\n",
      "3      fala tuiteiros\\namanha tem snickers em 2,50 e ...\n",
      "6      ganhei o título de maior \"lesado\" 🤦🏻‍♂️ @snick...\n",
      "7      rt @fuckinhelp: é do snickers, foda se matem m...\n",
      "9      https://t.co/vxmke3ztt1... — alguém que não me...\n",
      "10     quem é a pessia que está a frente do oliveira?...\n",
      "11     meu irmão me deu um snickers com a frente escr...\n",
      "17     rt @bobohunnie: eu tô só esses snickers https:...\n",
      "20     rt @pele: obrigado @snickers e amigos por part...\n",
      "21     rt @pele: obrigado @snickers e amigos por part...\n",
      "24     @umsorveleite vo te falar a exceção nisso tudo...\n",
      "25     quem e o oliveira para ti — das pessoas mais i...\n",
      "27     rt @pele: obrigado @snickers e amigos por part...\n",
      "39     estas interessada noutra pessoa, para namorar?...\n",
      "40     acordei as 11h30 e ate agora a unica coisa q c...\n",
      "45     rt @pele: obrigado @snickers e amigos por part...\n",
      "46     o diretor da escola de vcs da snickers pra vcs...\n",
      "47     rt @pele: obrigado @snickers e amigos por part...\n",
      "52             @bearulis miga compra um snickers que tem\n",
      "56     obrigado @snickers e amigos por participarem d...\n",
      "62     rt @pele: obrigado @snickers e amigos por part...\n",
      "68     rt @vraunn: hoje eu to só esses dois snickers ...\n",
      "70            até os snickers... https://t.co/337gas7218\n",
      "71     hoje eu so to esse snickers https://t.co/ysac4...\n",
      "80     hoje eu tive o desprazer de ver gente problema...\n",
      "81     quando o snickers decidiu fazer uma homenagem ...\n",
      "82     talvez meu \"ativismoooo\" pós-moderno + funny s...\n",
      "83     lançaram aqueles snickers com adjetivos femini...\n",
      "85     primeiro dia de dieta e eu comi dois snickers,...\n",
      "86     eu gosto dos comerciais da snickers pq tem uma...\n",
      "87     comer um snickers e ir embora do ensaio solitária\n",
      "92     rt @pele: obrigado @snickers e amigos por part...\n",
      "104    sobre os machados: mãe/ eu e fernanda! 😱😰😍 #sn...\n",
      "105    andreza e eu versão #snickers. kkkk https://t....\n",
      "118    meu pai me deu um snickers escrito lesada gent...\n",
      "119    rt @ricardolopes_27: o snickers tira gds fotos...\n",
      "121    gostei de um vídeo @youtube https://t.co/96lws...\n",
      "122    rt @pele: obrigado @snickers e amigos por part...\n",
      "127     hoje eu to só o snickers https://t.co/mjbudpxpgx\n",
      "130    minha cachorra comeu meu snickers vei eu não a...\n",
      "145    directores de marketing da snickers a elogiar ...\n",
      "148    roubei um snickers na americanas ontem mas nem...\n",
      "167    rt @lauraserafim9: hoje eu tava só esse snicke...\n",
      "168    @heriquef4rias eu já estive na sua posição, me...\n",
      "171    características do meu marido! 😂😂😂 #snickers #...\n",
      "173    rt @vraunn: hoje eu to só esses dois snickers ...\n",
      "177    cada dia que eu vou na delicia das filó o snic...\n",
      "183    atribuí nota 9 ao episódio 5x7 - full bush, ha...\n",
      "184    @catarina99378 não não! tb me pedias pra dizer...\n",
      "190    rt @dodopok: @atrebore meu snickers hoje. http...\n",
      "Name: Teste, dtype: object  inutil\n",
      "0                  @raangelss eu só quero snickers mesmo\n",
      "1      ceeeee louco só os c mt money pegava os snicke...\n",
      "2      @gabrielsilsan_ nossa, pensei que só eu era in...\n",
      "4      galera \\nsnickers não mata a fome de seu ningu...\n",
      "5      rt @portalstylinson: + harry: louis, come um s...\n",
      "8                                    crl eu amo snickers\n",
      "12     rt @portalstylinson: + harry: louis, come um s...\n",
      "13     o snickers que resume meu sentimental https://...\n",
      "14     @safolegoti frango assado , maionesse , macarr...\n",
      "15     @rafaeleaeblz @twoghxststyles nenhuma humilhaç...\n",
      "16     aquela propaganda do snickers não é enganosa,m...\n",
      "18       queria agora aquele snickers que wesley comprou\n",
      "19     @portalstylinson só como snickers se tiver um ...\n",
      "22     rt @vitorgaspio: snickers é o melhor chocolate...\n",
      "23     rt @vitorgaspio: snickers é o melhor chocolate...\n",
      "26     gente eu amo a coxinha do seu ze\\namo q as coi...\n",
      "28     eis que meu snickers está me definindo hoje ht...\n",
      "29              vo pedir minha mãe uma caixa de snickers\n",
      "30     @petrinhozinho deixa eu reclamar em paz eu sou...\n",
      "31     é muita gente rabugenta no meu trabalho, só um...\n",
      "32     estou desde ontem a pedir um gelado de snicker...\n",
      "33     rt @vitorgaspio: snickers é o melhor chocolate...\n",
      "34     snickers é mesmo a minha cena, definitivamente...\n",
      "35     rt @portalstylinson: + harry: louis, come um s...\n",
      "36     rt @portalstylinson: + harry: louis, come um s...\n",
      "37          snickers melhora tudo mano, melhor chocolate\n",
      "38      que chocolate bom do crl esse \"snickers\". #vicio\n",
      "41     rt @portalstylinson: + harry: louis, come um s...\n",
      "42     rt @vitorgaspio: snickers é o melhor chocolate...\n",
      "43     rt @sabrinadmsc_: snickers é o melhor chocolat...\n",
      "                             ...                        \n",
      "162    fiz hamburguer enquanto o hot n chegava, dps f...\n",
      "163    nao aguento mais minha mae comprando snickers ...\n",
      "164    @angelbooties @_ahxofana obrigada obrigada eu ...\n",
      "165    @biancavsf snickers eh o melhor chocolate já f...\n",
      "166                     meu ponto fraco é vê um snickers\n",
      "169    me obriguei a comprar um snickers, que chocola...\n",
      "170    rt @brubuzinhaw: o diretor da escola de vcs da...\n",
      "172    charge é mt melhor que snickers e eu tenho pro...\n",
      "174                   me de um snickers que eu te amarei\n",
      "175    eu amo snickers mas tem muita caloria e eu n p...\n",
      "176    rt @vitorgaspio: snickers é o melhor chocolate...\n",
      "178    rt @portalstylinson: + harry: louis, come um s...\n",
      "179    tudo mundo tipo \"ai q vontade de transar\" e eu...\n",
      "180    eu to comendo snickers, meu dia melhorou 10000...\n",
      "181    rt @portalstylinson: + harry: louis, come um s...\n",
      "182    rt @portalstylinson: + harry: louis, come um s...\n",
      "185    pq fica grudado com everton? — eu finjo que go...\n",
      "186    @snickers cês pisam demais. apaixonado com ess...\n",
      "187       pqp, quase quebrei o aparelho comendo snickers\n",
      "188           o snickers tira gds fotos, tem bué talento\n",
      "189    @raangelss você também finge que gosta dele po...\n",
      "191    @anetonc @kathmonteiiro vou ficar muito feliz ...\n",
      "192    quem tinha snickers em porto era ostentação ht...\n",
      "193                  tudo oq eu qria agr era um snickers\n",
      "194    + harry: louis, come um snickers. você se tran...\n",
      "195    lembrei q hj ganhei um snickers e fiquei feliz...\n",
      "196    comprei uma caixa de snickers que se foda minh...\n",
      "197    rt @portalstylinson: + harry: louis, come um s...\n",
      "198    rt @portalstylinson: + harry: louis, come um s...\n",
      "199    @biasalvagni pior que é, o cara tinha a opção ...\n",
      "Name: Teste, dtype: object  uteis\n",
      "bot\n",
      "[['ganhei', 'o', 'título', 'de', 'maior', 'lesado', '🤦🏻\\u200d♂️', 'snickers'], ['safolegoti', 'frango', 'assado', 'maionesse', 'macarrao', 'e', 'de', 'sobremesa', 'snickers'], ['rafaeleaeblz', 'twoghxststyles', 'nenhuma', 'humilhação', 'aqui', 'em', 'ny', 'comendo', 'um', 'snickers'], ['bobohunnie', 'eu', 'tô', 'só', 'esses', 'snickers'], ['só', 'como', 'snickers', 'se', 'tiver', 'um', 'comercial', 'assim', 'se', 'não', 'tiver', 'eu', 'mesma', 'faço'], ['pele', 'obrigado', 'snickers', 'e', 'amigos', 'por', 'do', 'playlikepele', 'passei', 'lindos', 'momentos', 'com', 'vocês', 'em', 'barcelona', 'deixem', 'a', 'bola', 'rola…'], ['pele', 'obrigado', 'snickers', 'e', 'amigos', 'por', 'do', 'playlikepele', 'passei', 'lindos', 'momentos', 'com', 'vocês', 'em', 'barcelona', 'deixem', 'a', 'bola', 'rola…'], ['pele', 'obrigado', 'snickers', 'e', 'amigos', 'por', 'do', 'playlikepele', 'passei', 'lindos', 'momentos', 'com', 'vocês', 'em', 'barcelona', 'deixem', 'a', 'bola', 'rola…'], ['vo', 'pedir', 'minha', 'mãe', 'uma', 'caixa', 'de', 'snickers'], ['petrinhozinho', 'deixa', 'eu', 'reclamar', 'em', 'paz', 'eu', 'sou', 'um', 'snickers'], ['pele', 'obrigado', 'snickers', 'e', 'amigos', 'por', 'do', 'playlikepele', 'passei', 'lindos', 'momentos', 'com', 'vocês', 'em', 'barcelona', 'deixem', 'a', 'bola', 'rola…'], ['o', 'diretor', 'da', 'escola', 'de', 'vcs', 'da', 'snickers', 'pra', 'vcs', 'comerem', 'também', 'o', 'meu', 'sim'], ['pele', 'obrigado', 'snickers', 'e', 'amigos', 'por', 'do', 'playlikepele', 'passei', 'lindos', 'momentos', 'com', 'vocês', 'em', 'barcelona', 'deixem', 'a', 'bola', 'rola…'], ['bearulis', 'miga', 'compra', 'um', 'snickers', 'que', 'tem'], ['snickers', 'eh', 'horrível', 'basta', 'aceitar'], ['obrigado', 'snickers', 'e', 'amigos', 'por', 'do', 'playlikepele', 'passei', 'lindos', 'momentos', 'com', 'vocês', 'em', 'barcelona', 'deix…'], ['quer', 'ver', 'eu', 'calma', 'coca', 'snickers'], ['pele', 'obrigado', 'snickers', 'e', 'amigos', 'por', 'do', 'playlikepele', 'passei', 'lindos', 'momentos', 'com', 'vocês', 'em', 'barcelona', 'deixem', 'a', 'bola', 'rola…'], ['chsnectar', 'queria', 'so', 'um', 'snickers', 'agora.'], ['comer', 'um', 'snickers', 'e', 'ir', 'embora', 'do', 'ensaio', 'solitária'], ['a', 'vida', 'eh', 'muito', 'cruel', '20', 'minutos', 'de', 'corrida', 'a', '86', 'kmh', 'não', 'queima', 'nem', 'um', 'snickers'], ['pele', 'obrigado', 'snickers', 'e', 'amigos', 'por', 'do', 'playlikepele', 'passei', 'lindos', 'momentos', 'com', 'vocês', 'em', 'barcelona', 'deixem', 'a', 'bola', 'rola…'], ['eu', 'ganhei', 'uma', 'caixa', 'com', '24', 'snickers', 'ontem', 'e', 'eu', 'to', 'comendo', 'o', 'ultimo', 'agr', 'me', 'sinto', 'uma', 'obesa'], ['chsnectar', 'queria', 'so', 'um', 'snickers', 'agora.'], ['e', 'ainda', 'me', 'levou', 'ao', 'mac', 'p', 'comer', 'o', 'gelado', 'de', 'snickers'], ['13', 'pila', 'um', 'cereal', 'não', 'da', 'pra', 'vc', 'gostar', 'de', 'snickers', 'não'], ['ganhei', 'um', 'snickers', 'de', 'uma', 'cliente', 'pormaisclientesassim'], ['pele', 'obrigado', 'snickers', 'e', 'amigos', 'por', 'do', 'playlikepele', 'passei', 'lindos', 'momentos', 'com', 'vocês', 'em', 'barcelona', 'deixem', 'a', 'bola', 'rola…'], ['raytrindad', 'eu', 'só', 'queria', 'um', 'snickers'], ['roubei', 'um', 'snickers', 'na', 'americanas', 'ontem', 'mas', 'nem', 'vou', 'poder', 'comer', 'eu', 'to', 'tristissima'], ['escovei', 'o', 'dente', 'pra', 'comer', 'snickers'], ['biancavsf', 'snickers', 'eh', 'o', 'melhor', 'chocolate', 'já', 'feito', 'pelo', 'homem'], ['brubuzinhaw', 'o', 'diretor', 'da', 'escola', 'de', 'vcs', 'da', 'snickers', 'pra', 'vcs', 'comerem', 'também', 'o', 'meu', 'sim'], ['características', 'do', 'meu', 'marido', '😂😂😂', 'snickers', 'chocolover'], ['me', 'de', 'um', 'snickers', 'que', 'eu', 'te', 'amarei'], ['atribuí', 'nota', '9', 'ao', 'episódio', '5x7', '-', 'full', 'bush', 'half', 'snickers', 'de', 'orange', 'is', 'the', 'new', 'black', 'bancodeseries'], ['catarina99378', 'não', 'não', 'tb', 'me', 'pedias', 'pra', 'dizer', 'snickers', 'e', 'maltesers', 'as', 'senhoras', 'do', 'bar'], ['lembrei', 'q', 'hj', 'ganhei', 'um', 'snickers', 'e', 'fiquei', 'feliz', 'dms']]  inuteis\n",
      "[['raangelss', 'eu', 'só', 'quero', 'snickers', 'mesmo'], ['ceeeee', 'louco', 'só', 'os', 'c', 'mt', 'money', 'pegava', 'os', 'snickers', 'do', 'hotel', 'viu'], ['gabrielsilsan_', 'nossa', 'pensei', 'que', 'só', 'eu', 'era', 'interessada', 'no', 'snickers'], ['fala', 'tuiteiros', 'amanha', 'tem', 'snickers', 'em', '250', 'e', 'o', 'pirulito', '7', 'belos', '025', 'que', 'eu', 'esqueci', 'hoje', 'porque', 'sou', 'um', 'burro', 'devo', 'ter', 'perdido', '50', 'cliente'], ['galera', 'snickers', 'não', 'mata', 'a', 'fome', 'de', 'seu', 'ninguém', 'tudo', 'mentira'], ['harry', 'louis', 'come', 'um', 'snickers', 'você', 'se', 'transforma', 'em', 'um', 'estagiário', 'da', 'modest', 'quando', 'está', 'com', 'fome'], ['fuckinhelp', 'é', 'do', 'snickers', 'foda', 'se', 'matem', 'me', 'por', 'favor'], ['crl', 'eu', 'amo', 'snickers'], ['—', 'alguém', 'que', 'não', 'me', 'quer', 'ver'], ['quem', 'é', 'a', 'pessia', 'que', 'está', 'a', 'frente', 'do', 'oliveira', 'aque.', '—', 'mas', 'vcs', 'querem', 'saber', 'tudo', 'mds'], ['meu', 'irmão', 'me', 'deu', 'um', 'snickers', 'com', 'a', 'frente', 'escrita', '\"lesada', 'muito', 'amor', 'entre', 'irmãos'], ['harry', 'louis', 'come', 'um', 'snickers', 'você', 'se', 'transforma', 'em', 'um', 'estagiário', 'da', 'modest', 'quando', 'está', 'com', 'fome'], ['o', 'snickers', 'que', 'resume', 'meu', 'sentimental'], ['aquela', 'propaganda', 'do', 'snickers', 'não', 'é', 'enganosamatou', 'minha', 'fomeagora', 'quero', 'comer', 'comida', 'e', 'a', 'fome', 'sumiu\\U0001f928😑😐'], ['queria', 'agora', 'aquele', 'snickers', 'que', 'wesley', 'comprou'], ['vitorgaspio', 'snickers', 'é', 'o', 'melhor', 'chocolate', 'do', 'mundo', 'mds'], ['vitorgaspio', 'snickers', 'é', 'o', 'melhor', 'chocolate', 'do', 'mundo', 'mds'], ['umsorveleite', 'vo', 'te', 'falar', 'a', 'exceção', 'nisso', 'tudo', 'snickers', 'espero', 'q', 'concorde'], ['quem', 'e', 'o', 'oliveira', 'para', 'ti', '—', 'das', 'pessoas', 'mais', 'na', 'minha', 'vida', 'só', 'não', '.'], ['gente', 'eu', 'amo', 'a', 'coxinha', 'do', 'seu', 'ze', 'amo', 'q', 'as', 'coisas', 'q', 'o', 'seu', 'ze', 'vende', 'são', 'baratas', 'e', 'boas', 'amo', 'o', 'snickers', 'de', '50', 'centavos', 'seu', 'ze', 'eu', 'te', 'venero'], ['eis', 'que', 'meu', 'snickers', 'está', 'me', 'definindo', 'hoje'], ['é', 'muita', 'gente', 'rabugenta', 'no', 'meu', 'trabalho', 'só', 'um', 'snickers', 'pra', 'salvar'], ['estou', 'desde', 'ontem', 'a', 'pedir', 'um', 'gelado', 'de', 'snickers', 'do', 'mc', 'e', 'moro', 'a', '1', 'min', 'do', 'mc', 'espero', 'q', 'sejam', 'bondosos', 'p', 'mim', 'e', 'q', 'a', 'seguir', 'ao', 'jantar', 'vão', 'lá'], ['vitorgaspio', 'snickers', 'é', 'o', 'melhor', 'chocolate', 'do', 'mundo', 'mds'], ['snickers', 'é', 'mesmo', 'a', 'minha', 'cena', 'definitivamente', 'o', 'melhor', 'chocolate'], ['harry', 'louis', 'come', 'um', 'snickers', 'você', 'se', 'transforma', 'em', 'um', 'estagiário', 'da', 'modest', 'quando', 'está', 'com', 'fome'], ['harry', 'louis', 'come', 'um', 'snickers', 'você', 'se', 'transforma', 'em', 'um', 'estagiário', 'da', 'modest', 'quando', 'está', 'com', 'fome'], ['snickers', 'melhora', 'tudo', 'mano', 'melhor', 'chocolate'], ['que', 'chocolate', 'bom', 'do', 'crl', 'esse', '\"snickers', 'vicio'], ['estas', 'interessada', 'noutra', 'pessoa', 'para', 'namorar', '—', 'nao', 'estou', 'interessada', 'em', 'namoros'], ['acordei', 'as', '11h30', 'e', 'ate', 'agora', 'a', 'unica', 'coisa', 'q', 'comi', 'foi', 'um', 'snickers', 'p', 'alem', 'dos', 'outros', 'nutriente', 'ahah', 'por', 'isso', 'acho', 'q', 'vou', 'comer', 'qualquer', 'coisa'], ['harry', 'louis', 'come', 'um', 'snickers', 'você', 'se', 'transforma', 'em', 'um', 'estagiário', 'da', 'modest', 'quando', 'está', 'com', 'fome'], ['vitorgaspio', 'snickers', 'é', 'o', 'melhor', 'chocolate', 'do', 'mundo', 'mds'], ['sabrinadmsc_', 'snickers', 'é', 'o', 'melhor', 'chocolate', 'que', 'existe', 'sem', 'condições'], ['que', 'vontade', 'de', 'fugir', 'de', 'tudo', 'e', 'todos', 'e', 'viver', 'apenas', 'no', 'meu', 'a', 'base', 'de', 'agua', 'e', 'snickers'], ['se', 'o', 'snickers', 'não', 'ganha', 'vocês', 'são', 'horríveis'], ['to', 'viciada', 'em', 'snickers', 'me', 'ajudem'], ['a', 'minha', 'felicidade', 'ao', 'pedirem', 'me', 'o', 'meu', 'e-mail', 'e', 'a', 'dizer', 'que', 'vão', 'publicar', 'todos', 'os', 'meus', 'vídeos', 'na', 'página', 'da', 'snickers…'], ['hoje', 'a', 'gabriela', 'me', 'deu', 'uma', 'barrinha', 'de', 'snickers', 'escrito', 'dramática', 'eu', 'num', 'mereço'], ['sakuraibr', 'não', 'dá', 'pra', 'ler', 'o', 'final', 'então', 'estou', 'interpretando', 'como', 'cometa', 'crimes', 'invoque', 'seu', 'demônio', 'interior', 'coma', 'snickers'], ['comprei', 'snickers', 'fui', 'p', 'dentista', 'ela', 'arrancou', 'um', 'pedaço', 'da', 'minha', 'boca', 'n', 'posso', 'comer', 'grão', 'snickers', 'tem', 'amendoim', 'sto', 'chorando'], ['eu', 'amo', 'snickers'], ['sabrinadmsc_', 'snickers', 'é', 'o', 'melhor', 'chocolate', 'que', 'existe', 'sem', 'condições'], ['hoje', 'eu', 'to', 'só', 'esses', 'dois', 'snickers'], ['hoje', 'comi', 'um', 'gelado', 'de', 'manteiga', 'de', 'amendoim', 'com', 'snickers', 'é', 'ótimo'], ['harry', 'louis', 'come', 'um', 'snickers', 'você', 'se', 'transforma', 'em', 'um', 'estagiário', 'da', 'modest', 'quando', 'está', 'com', 'fome'], ['namore', 'alguém', 'que', 'compre', 'snickers', 'pra', 'voc', '😍'], ['caioruass', 'inclusive', 'charge', 'e', 'snickers', 'são', 'as', 'melhores', 'guloseimas', 'sem', 'sombra', 'de', 'dúvida'], ['um', 'snickers', 'me', 'faria', 'tão', 'feliz'], ['vitorgaspio', 'snickers', 'é', 'o', 'melhor', 'chocolate', 'do', 'mundo', 'mds'], ['vraunn', 'hoje', 'eu', 'to', 'só', 'esses', 'dois', 'snickers'], ['snickers', 'e', 'suco', 'de', 'maracujá', 'tá', 'rolando'], ['até', 'os', 'snickers.'], ['hoje', 'eu', 'so', 'to', 'esse', 'snickers'], ['comi', 'um', 'gelado', 'de', 'snickers', 'tão', 'mas', 'tão', 'bom'], ['snickers', 'é', 'o', 'melhor', 'chocolate', 'já', 'inventado'], ['harry', 'louis', 'come', 'um', 'snickers', 'você', 'se', 'transforma', 'em', 'um', 'estagiário', 'da', 'modest', 'quando', 'está', 'com', 'fome'], ['sarinhastal', 'falaamaria', 'guustavo_souza', 'também', 'é', 'bom', 'mas', 'snickers', 'é', 'topper'], ['tava', 'comendo', 'snickers', 'ai', 'tava', 'escrito', 'dramático', 'ai', 'minha', 'mae', 'disse', 'q', 'aquele', 'era', 'pra', 'mim', 'msm', 'af'], ['aff', 'vou', 'ter', 'de', 'procurar', 'um', 'icon', 'deles', 'pra', 'colocar', 'depois', 'disso.', 'mas', 'meu', 'snickers', 'é', 'tão', 'lindo', 'quero', 'chora', 'ser', 'shipper', 'às', 'vezes', 'é', 'osso'], ['snickers', 'ouro', 'branco', 'e', 'lacta', 'oreo', 'são', 'chocolates', 'que', 'eu', 'trocaria', 'por', 'pessoas', 'sem', 'pensar', 'duas', 'vezes'], ['poucos', 'chocolates', 'me', 'deixam', 'tão', 'saciada', 'com', 'sensação', 'de', 'relaxamento', 'como', 'snickers'], ['hoje', 'eu', 'tive', 'o', 'desprazer', 'de', 'ver', 'gente', 'problematizando', 'as', 'embalagens', 'de', 'snickers', 'e', 'eu', 'só', 'queria', 'dizer', 'que', 'eu', 'odeio', 'os', 'militantes', 'da', 'internet'], ['quando', 'o', 'snickers', 'decidiu', 'fazer', 'uma', 'homenagem', 'póstuma', 'ao', 'vocalista', 'de', 'uma', 'das', 'maiores', 'bandas', 'do', 'rock', 'brazuca'], ['talvez', 'meu', 'ativismoooo', 'pós-moderno', 'funny', 'seja', 'não', 'comer', 'snickers', 'e', 'não', 'as', 'fotos', 'de', 'amigos', 'meus', 'mesmo', 'que', 'bonitas', 'em', 'vaquejadas'], ['lançaram', 'aqueles', 'snickers', 'com', 'adjetivos', 'femininos', 'e', 'masculinos', 'adivinha', 'quem', 'achou', 'ruim', 'e', 'ta', 'reclamando', 'reflitao'], ['primeiro', 'dia', 'de', 'dieta', 'e', 'eu', 'comi', 'dois', 'snickers', 'um', 'cebolitos', 'e', 'uma', 'xícara', 'de', 'feijoada', 'tudo', 'por', 'causa', 'de', 'uma', 'fucking', 'crise'], ['eu', 'gosto', 'dos', 'comerciais', 'da', 'snickers', 'pq', 'tem', 'uma', 'galera', 'jovem', 'adulta', 'chapando', 'na', 'madrugada', 'por', 'estar', 'falido', 'demais..', 'isso', 'é', 'tão', 'twitter'], ['ligar', 'na', 'farmácia', 'e', 'pedir', 'uma', 'embalagem', 'de', 'soro', 'seria', 'muita', 'sacanagem', 'vou', 'pedir', 'um', 'snickers', 'também'], ['snickers', 'é', 'o', 'melhor', 'chocolate', 'do', 'mundo'], ['harry', 'louis', 'come', 'um', 'snickers', 'você', 'se', 'transforma', 'em', 'um', 'estagiário', 'da', 'modest', 'quando', 'está', 'com', 'fome'], ['mingusta_', 'sdds', 'do', 'snickers', ':'], ['fui', 'tira', 'um', 'snickers', 'na', 'maquina', 'e', 'adinha', 'ela', 'queria', 'segura', 'meu', 'dinheiro', 'logo', 'eu', 'funcionario', 'itau'], ['wtfcila', 'eu', 'pego', 'um', 'snickers', 'se', 'der'], ['harry', 'louis', 'come', 'um', 'snickers', 'você', 'se', 'transforma', 'em', 'um', 'estagiário', 'da', 'modest', 'quando', 'está', 'com', 'fome'], ['harry', 'louis', 'come', 'um', 'snickers', 'você', 'se', 'transforma', 'em', 'um', 'estagiário', 'da', 'modest', 'quando', 'está', 'com', 'fome'], ['harry', 'louis', 'come', 'um', 'snickers', 'você', 'se', 'transforma', 'em', 'um', 'estagiário', 'da', 'modest', 'quando', 'está', 'com', 'fome'], ['por', 'que', 'snickers', 'é', 'tão', 'bom'], ['vitorgaspio', 'snickers', 'é', 'o', 'melhor', 'chocolate', 'do', 'mundo', 'mds'], ['sobre', 'os', 'machados', 'mãe', 'eu', 'e', 'fernanda', '😱😰😍', 'snickers', 'reclamona', 'teimoso', 'irritada', 'em', 'casa', 'do', 'celo'], ['andreza', 'e', 'eu', 'versão', 'snickers', 'kkkk'], ['harry', 'louis', 'come', 'um', 'snickers', 'você', 'se', 'transforma', 'em', 'um', 'estagiário', 'da', 'modest', 'quando', 'está', 'com', 'fome'], ['acho', 'que', 'gastei', 'todo', 'o', 'meu', 'chakra', 'tentando', 'não', 'apagar', 'com', 'hipoglicemia', 'no', 'meio', 'da', 'rua', 'até', 'achar', 'um', 'cara', 'vendendo', 'snickers'], ['eu', 'voltando', 'rpa', 'casa', 'pensando', 'nossa', 'comi', 'abacaxizinho', 'comi', 'lasanha', 'comi', 'pastel', 'comi', 'u', 'snickers', 'nada', 'nesse', 'dia', 'vai', 'dar', 'ruim', 'aí', 'mythed'], ['snickers', 'é', 'mt', 'bom'], ['eu', 'amo', 'snickers'], ['&gtcompro', 'um', 'snickers', 'cheio', 'de', 'culpa', 'por', 'que', 'tá', 'um', 'dia', 'péssimo', 'e', 'preciso', 'me', 'animar', '&gtchego', 'no', 'ponto', 'e', 'o', '14', 'final', 'dele', 'cai', 'no', 'chao'], ['eu', 'como', 'snickers', 'td', 'dia', 'acho', 'q', 'to', 'ficando', 'dependente', 'já'], ['quase', 'na', 'hora', 'de', 'almoçar', 'e', 'eu', 'comendo', 'snickers'], ['layne_mundi', 'huuauahauhqua', 'comer', 'snickers', 'me', 'deixa', 'mt', 'de', 'bom', 'humor', 'pai'], ['acho', 'q', 'melhor', 'q', 'snickers', 'só', 'a'], ['meu', 'pai', 'me', 'deu', 'um', 'snickers', 'escrito', 'lesada', 'gente', 'olha', 'bem', 'vê', 'se', 'eu', 'mereço'], ['ricardolopes_27', 'o', 'snickers', 'tira', 'gds', 'fotos', 'tem', 'bué', 'talento'], ['meu', 'eu', 'amo', 'snickers', 'se', 'alguém', 'quiser', 'me', 'ver', 'feliz', 'é', 'só', 'me', 'dar', 'uma', 'barrinha'], ['gostei', 'de', 'um', 'vídeo', 'youtube', 'snickers', 'gigante', 'maior', 'do', 'mundo'], ['minha', 'mãe', 'disse', 'que', 'comprou', 'um', 'snickers', 'escrito', 'lesada', 'pq', 'lembrou', 'de', 'mim'], ['quero', 'algum', 'coraçãozinho', 'bom', 'pra', 'aparecer', 'aqui', 'em', 'casa', 'com', 'vários', 'pirulitos', 'e', 'snickers', 'seria', 'eu', 'a', 'mulher', 'mais', 'feliz', 'do', 'mundo'], ['barritas', 'snickers', 'saudáveis', 'paleo'], ['há', 'um', 'ano', 'atrás', 'eu', 'era', 'uma', 'bosta', 'de', 'cabelo', 'vermelho', 'comendo', 'algodao', 'doce', 'agora', 'eu', 'sou', 'uma', 'bosta', 'de', 'cabelo', 'c…'], ['hoje', 'eu', 'to', 'só', 'o', 'snickers'], ['hoje', 'eu', 'vi', 'vendendo', 'snickers', 'escrito', 'lesado', 'deu', 'vontade', 'de', 'comprar', 'e', 'dar', 'pro', 'pra', 'ver', 'se', 'ele', 'se', 'mexe', 'né', 'mores......'], ['cheguei', 'na', 'cantina', 'e', 'pedi', 'um', 'snickers', 'o', 'cara', 'me', 'olhou', 'e', 'deu', 'esse'], ['minha', 'cachorra', 'comeu', 'meu', 'snickers', 'vei', 'eu', 'não', 'acredito', 'eu', 'to', 'muito', 'triste', 'cara', 'vcs', 'n', 'imaginam', 'minha', 'cara', 'de', 'desespero'], ['eu', 'amo', 'snickers', 'demais', 'maaanoo'], ['fim', 'de', 'noite', 'snickers', 'red', 'bull', 'e', 'frio'], ['ricardolopes_27', 'o', 'snickers', 'tira', 'gds', 'fotos', 'tem', 'bué', 'talento'], ['tava', 'sofrendo', 'com', 'vontade', 'de', 'doce', 'comprei', 'snickers', 'e', 'um', 'doritos'], ['harry', 'louis', 'come', 'um', 'snickers', 'você', 'se', 'transforma', 'em', 'um', 'estagiário', 'da', 'modest', 'quando', 'está', 'com', 'fome'], ['comprei', 'fini', 'dentaduracomprei', 'snickers,kappo,pipoca.só', 'deus', 'me', 'salva', 'essa', 'semana'], ['silvillann', 'snickers', 'é', 'muito', 'bom', 'pra', 'se', 'recusar', 'né', 'vei', 'desculpe', 'mas', 'só', 'tem', '1', 'e', 'advinha', 'já', 'ta', 'na', 'minha', 'boca'], ['sou', 'viciada', 'em', 'snickers'], ['whoslohy', 'eu', 'amo', 'snickers', 'demais', 'maaanoo'], ['bxdoug', 'crl', 'eu', 'amo', 'snickers'], ['toda', 'vez', 'q', 'eu', 'como', 'snickers', 'parece', 'q', 'eu', 'comi', 'uns', '10', 'pratos', 'de', 'comida'], ['carolinalicia', 'poucos', 'chocolates', 'me', 'deixam', 'tão', 'saciada', 'com', 'sensação', 'de', 'relaxamento', 'como', 'snickers'], ['biapmelo', 'mas', 'tá', 'muito', 'engraçada', 'essa', 'moça.', 'posso', 'dizer', 'q', 'sou', 'todos', 'os', 'snickers', 'kkkkkkkkkkk'], ['directores', 'de', 'marketing', 'da', 'snickers', 'a', 'elogiar', 'o', 'meu', 'vídeo', '🤷\\u200d♀️', 'ohshit'], ['josuemmoutinho', 'tdpocrlh_', 'anacbower', 'já', 'comi', 'um', 'snickers', 'estou', 'melhor'], ['harry', 'louis', 'come', 'um', 'snickers', 'você', 'se', 'transforma', 'em', 'um', 'estagiário', 'da', 'modest', 'quando', 'está', 'com', 'fome'], ['crazzy_vlog', 'sintoniaverso', 'não', 'foi', 'dessa', 'vez', 'kkkk', 'eu', 'compro', 'snickers', 'se', 'você', 'quiser', 'pq', 'sou', 'um', 'amor', 'de', 'pessoa'], ['harry', 'louis', 'come', 'um', 'snickers', 'você', 'se', 'transforma', 'em', 'um', 'estagiário', 'da', 'modest', 'quando', 'está', 'com', 'fome'], ['o', 'snickers', 'poderia', 'fazer', 'uma', 'campanha', 'c', 'umas', 'características', 'dos', 'homens', 'na', 'vida', 'não', 'só', 'c', 'fome', 'machista', 'infantil', 'grosso', 'medroso', 'egoísta'], ['ruipedr0p', 'a', 'minha', 'felicidade', 'ao', 'pedirem', 'me', 'o', 'meu', 'e-mail', 'e', 'a', 'dizer', 'que', 'vão', 'publicar', 'todos', 'os', 'meus', 'vídeos', 'na', 'página', 'da', 'snickers', '😂', 'w', 'pel…'], ['eu', 'amo', 'muito', 'snickers', 'só', 'não', 'amo', 'mais', 'do', 'que', 'amo', 'a', 'my', 'baby', 'e', 'my', 'mother', '😍', 'sempre', 'que', 'posso', 'compro', 'no', 'supermercado', 'com', 'o', 'dinheiro', 'que', 'sobra'], ['meu', 'irmão', 'me', 'deu', 'snickers', 'ahhhhh', 'que', 'dlç'], ['meu', 'pai', 'foi', 'no', 'mercado', 'e', 'trouxe', 'um', 'snickers', 'alegando', 'que', 'trouxe', 'o', 'teimosa', 'pois', 'o', 'rabugenta', 'estava', 'em', 'falta'], ['harry', 'louis', 'come', 'um', 'snickers', 'você', 'se', 'transforma', 'em', 'um', 'estagiário', 'da', 'modest', 'quando', 'está', 'com', 'fome'], ['tô', 'viciada', 'em', 'snickers'], ['harry', 'louis', 'come', 'um', 'snickers', 'você', 'se', 'transforma', 'em', 'um', 'estagiário', 'da', 'modest', 'quando', 'está', 'com', 'fome'], ['vontade', 'daquilo', 'que', 'começa', 'com', 's.......', 'snickers'], ['ta', 'explicado', 'pq', 'eu', 'amo', 'snickers'], ['fiz', 'hamburguer', 'enquanto', 'o', 'hot', 'n', 'chegava', 'dps', 'fiquei', 'c', 'fome', 'e', 'comi', 'salame', 'e', 'agr', 'to', 'c', 'snickers', 'p', 'fechar😅', 'lombrigadays'], ['nao', 'aguento', 'mais', 'minha', 'mae', 'comprando', 'snickers', 'escrito', 'teimoso', 'pra', 'me', 'zoar'], ['angelbooties', '_ahxofana', 'obrigada', 'obrigada', 'eu', 'gosto', 'de', 'snickers', 'mais', 'do', 'que', 'de', 'kit', 'kat'], ['meu', 'ponto', 'fraco', 'é', 'vê', 'um', 'snickers'], ['lauraserafim9', 'hoje', 'eu', 'tava', 'só', 'esse', 'snickers', 'rsrsss'], ['heriquef4rias', 'eu', 'já', 'estive', 'na', 'sua', 'posição', 'meu', 'jovem', 'é', 'duro', 'eu', 'sei', 'mas', 'um', 'dia', 'você', 'também', 'será', 'o', 'rico', 'proprietá…'], ['me', 'obriguei', 'a', 'comprar', 'um', 'snickers', 'que', 'chocolate', 'mais', 'bom'], ['charge', 'é', 'mt', 'melhor', 'que', 'snickers', 'e', 'eu', 'tenho', 'provas', 'concretas'], ['vraunn', 'hoje', 'eu', 'to', 'só', 'esses', 'dois', 'snickers'], ['eu', 'amo', 'snickers', 'mas', 'tem', 'muita', 'caloria', 'e', 'eu', 'n', 'podia', 'tá', 'comendo', 'mas', 'é', 'tão', 'bom', 'q', 'eu', 'tô', 'comendo', 'mas', 'eu', 'tô', 'chorando', 'pq', 'eu', 'vo', 'engorda', 'e', 'eu', 'n', 'quero'], ['vitorgaspio', 'snickers', 'é', 'o', 'melhor', 'chocolate', 'do', 'mundo', 'mds'], ['cada', 'dia', 'que', 'eu', 'vou', 'na', 'delicia', 'das', 'filó', 'o', 'snickers', 'ta', 'com', 'um', 'valor', 'diferente', 'a', 'época', 'da', 'inflação', 'já', 'foi', 'viu', 'gente?'], ['harry', 'louis', 'come', 'um', 'snickers', 'você', 'se', 'transforma', 'em', 'um', 'estagiário', 'da', 'modest', 'quando', 'está', 'com', 'fome'], ['tudo', 'mundo', 'tipo', 'ai', 'q', 'vontade', 'de', 'transar', 'e', 'eu', 'to', 'tipo', 'ai', 'q', 'vontade', 'de', 'comer', 'um', 'sorvete', 'de', 'nutella', 'recheado', 'de', 'kitkat', 'com', 'snickers', 'em', 'cima'], ['eu', 'to', 'comendo', 'snickers', 'meu', 'dia', 'melhorou', '10000000000%'], ['harry', 'louis', 'come', 'um', 'snickers', 'você', 'se', 'transforma', 'em', 'um', 'estagiário', 'da', 'modest', 'quando', 'está', 'com', 'fome'], ['harry', 'louis', 'come', 'um', 'snickers', 'você', 'se', 'transforma', 'em', 'um', 'estagiário', 'da', 'modest', 'quando', 'está', 'com', 'fome'], ['pq', 'fica', 'grudado', 'com', '—', 'eu', 'finjo', 'que', 'gosto', 'dele', 'pra', 'ele', 'me', 'dar', 'snickers'], ['snickers', 'cês', 'pisam', 'demais', 'apaixonado', 'com', 'esse', 'doce', 'deveria', 'fazer', 'um', 'com', 'embalagem', 'de', '\"nervosa', 'porque', 'eu', 'só', 'acalmo', 'com', 'isso', 'haha'], ['pqp', 'quase', 'quebrei', 'o', 'aparelho', 'comendo', 'snickers'], ['o', 'snickers', 'tira', 'gds', 'fotos', 'tem', 'bué', 'talento'], ['raangelss', 'você', 'também', 'finge', 'que', 'gosta', 'dele', 'por', 'snickers'], ['dodopok', 'atrebore', 'meu', 'snickers', 'hoje'], ['anetonc', 'kathmonteiiro', 'vou', 'ficar', 'muito', 'feliz', 'amo', 'snickers'], ['quem', 'tinha', 'snickers', 'em', 'era', 'ostentação'], ['tudo', 'oq', 'eu', 'qria', 'agr', 'era', 'um', 'snickers'], ['harry', 'louis', 'come', 'um', 'snickers', 'você', 'se', 'transforma', 'em', 'um', 'estagiário', 'da', 'modest', 'quando', 'está', 'com', 'fome'], ['comprei', 'uma', 'caixa', 'de', 'snickers', 'que', 'se', 'foda', 'minha', 'dieta', 'eh', 'isto'], ['harry', 'louis', 'come', 'um', 'snickers', 'você', 'se', 'transforma', 'em', 'um', 'estagiário', 'da', 'modest', 'quando', 'está', 'com', 'fome'], ['harry', 'louis', 'come', 'um', 'snickers', 'você', 'se', 'transforma', 'em', 'um', 'estagiário', 'da', 'modest', 'quando', 'está', 'com', 'fome'], ['biasalvagni', 'pior', 'que', 'é', 'o', 'cara', 'tinha', 'a', 'opção', 'escrito', 'snickers']]  uteis\n"
     ]
    }
   ],
   "source": [
    "#formatbotr (botr ( lista de palavras no pandas , treino do bot)) [0 = util, 1 = inutil]\n",
    "print(\"  TREINO\")\n",
    "print(\"pessoa\")\n",
    "print((inutil), \" inutil\")\n",
    "print((util), \" uteis\")\n",
    "\n",
    "print(\"bot\")\n",
    "print((formatbotr(botr(tudo,bott([util,inutil],1)))[1]), \" inuteis\") \n",
    "print((formatbotr(botr(tudo,bott([util,inutil],1)))[0]), \" uteis\")\n",
    "\n",
    "\n",
    "\n",
    "print(\"\\n\",\" TESTE\")\n",
    "print(\"pessoa\")\n",
    "print((testeinutil), \" inutil\")\n",
    "print((testeutil), \" uteis\")\n",
    "\n",
    "print(\"bot\")\n",
    "print((formatbotr(botr(tudoteste,bott([util,inutil],1)))[1]), \" inuteis\") \n",
    "print((formatbotr(botr(tudoteste,bott([util,inutil],1)))[0]), \" uteis\")"
   ]
  },
  {
   "cell_type": "markdown",
   "metadata": {},
   "source": [
    "___\n",
    "## Verificando a performance\n",
    "\n",
    "Agora você deve testar o seu Classificador com a base de Testes.<br /><br /> \n",
    "\n",
    "Você deve extrair as seguintes medidas:\n",
    "* Porcentagem de positivos falsos (marcados como relevante mas não são relevantes)\n",
    "* Porcentagem de positivos verdadeiros (marcado como relevante e são relevantes)\n",
    "* Porcentagem de negativos verdadeiros (marcado como não relevante e não são relevantes)\n",
    "* Porcentagem de negativos falsos (marcado como não relevante e são relevantes)\n",
    "\n",
    "Opcionalmente:\n",
    "* Criar categorias intermediárias de relevância baseado na diferença de probabilidades. Exemplo: muito relevante, relevante, neutro, irrelevante e muito irrelevante."
   ]
  },
  {
   "cell_type": "markdown",
   "metadata": {
    "collapsed": true,
    "scrolled": true
   },
   "source": [
    "Porcentagem de positivos falsos = 31\n",
    "Porcentagem de positivos verdadeiros = 129\n",
    "Porcentagem de negativos verdadeiros = 18\n",
    "Porcentagem de negativos falsos = 22\n",
    "\n",
    "acerto em analises = 73.5%\n",
    "erros em analises = 26.5%"
   ]
  },
  {
   "cell_type": "markdown",
   "metadata": {
    "collapsed": true
   },
   "source": [
    "___\n",
    "## Concluindo\n",
    "\n",
    "Escreva aqui a sua conclusão.<br /> \n",
    "Faça um comparativo qualitativo sobre as medidas obtidas.<br />\n",
    "Explique como são tratadas as mensagens com dupla negação e sarcasmo.<br />\n",
    "Proponha um plano de expansão. Por que eles devem continuar financiando o seu projeto?<br />\n",
    "\n",
    "Opcionalmente: \n",
    "* Discorrer por que não posso alimentar minha base de Treinamento automaticamente usando o próprio classificador, aplicado a novos tweets.\n",
    "* Propor diferentes cenários de uso para o classificador Naive-Bayes. Cenários sem intersecção com este projeto.\n",
    "* Sugerir e explicar melhorias reais no classificador com indicações concretas de como implementar (não é preciso codificar, mas indicar como fazer e material de pesquisa sobre o assunto).\n"
   ]
  },
  {
   "cell_type": "markdown",
   "metadata": {
    "collapsed": true
   },
   "source": [
    "<p>   Concuimos que nosso bot conseguiu chegar razoavelmente perto dos resultados que nos obtivemos quando nos mesmos analisamos. </p> \n",
    "<p>   A sua porcentagem de acerto foi bem alta. Considerando que a analise humana pode ter ocorrido algumas falhas, nos esperavamos uma porcentagem de acerto um pouco menor por ser um programa de analise tão primitivo em relacão as suas condicões analiticas.</p> \n",
    "<p>O bot analisou 200 frases que ja haviam sido analisadas por nos, alunos, definindo elas como relevantes ou não. Tomando como a analise humana 100% certa, o bot acertou 73.5% das analises (147 frases), e errou 26.5% das analises (53 frases).</p> \n",
    "<p>Como nosso programa de analise ainda é muito rudimentar, sem parâmentros de análise complexos, não poderiamos esperar uma porcentagem de acerto tão elevado.</p> \n",
    "<p>Para cada frase nos focamos em analisar palavra por palavra, assim coisas como sarcasmo podem acabar sendo confundidas e mal-interpretadas pelo programa.</p> \n",
    "<p>Uma possível expansão para o programa seria justamento a interpretação avançada do sarcasmo, e também expanidir para identificação de posição em relação ao produto, onde o programa falaria também, alem de ser util ou não, mas de dizer se é um util com características positivas, ou negativas.</p> \n",
    "<p>Esse programa pode ser usado para empresas de médio e grande porte para avaliar seu produto com o cliente, e o que as pessoas pensam dele. Podendo expandir para outras redes sociais se houver necessidade.</p> "
   ]
  }
 ],
 "metadata": {
  "kernelspec": {
   "display_name": "Python 3",
   "language": "python",
   "name": "python3"
  },
  "language_info": {
   "codemirror_mode": {
    "name": "ipython",
    "version": 3
   },
   "file_extension": ".py",
   "mimetype": "text/x-python",
   "name": "python",
   "nbconvert_exporter": "python",
   "pygments_lexer": "ipython3",
   "version": "3.6.0"
  }
 },
 "nbformat": 4,
 "nbformat_minor": 1
}
